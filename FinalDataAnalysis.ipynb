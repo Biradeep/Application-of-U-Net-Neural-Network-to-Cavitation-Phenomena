{
 "cells": [
  {
   "cell_type": "code",
   "execution_count": 8,
   "metadata": {},
   "outputs": [],
   "source": [
    "import glob\n",
    "import numpy as np\n",
    "import math\n",
    "import sys\n",
    "import os\n",
    "import matplotlib.pyplot as plt\n",
    "import cv2 as cv"
   ]
  },
  {
   "cell_type": "code",
   "execution_count": 9,
   "metadata": {},
   "outputs": [],
   "source": [
    "Paper_files_dir_train = glob.glob(r\"C:\\Users\\bira1\\OneDrive\\Uni MSc\\Individual Project\\Data\\Data for analysis\\GermanData\\PaperData\\paper_train\\*.npz\")\n",
    "Batch1_files_dir_train = glob.glob(r\"C:\\Users\\bira1\\OneDrive\\Uni MSc\\Individual Project\\Data\\Data for analysis\\Batch_1_train_hydro_2021\\*.npz\")\n",
    "Batch2_files_dir_train =glob.glob(r\"C:\\Users\\bira1\\OneDrive\\Uni MSc\\Individual Project\\Data\\Data for analysis\\Batch_2_train_hydro_2021\\*.npz\")\n",
    "High_Ca_files_dir = glob.glob(r\"C:\\Users\\bira1\\OneDrive\\Uni MSc\\Individual Project\\Data\\Data for analysis\\High_Ca_Data\\*.npz\")\n",
    "\n"
   ]
  },
  {
   "cell_type": "code",
   "execution_count": 86,
   "metadata": {},
   "outputs": [],
   "source": [
    "#Choose direc then run script to obtain plot of data distrib\n",
    "\n",
    "direc = Paper_files_dir_train\n",
    "\n",
    "#set save on or off to store locally\n",
    "save = 'on'"
   ]
  },
  {
   "cell_type": "code",
   "execution_count": 87,
   "metadata": {},
   "outputs": [],
   "source": [
    "#------------------------------------Obtaining target Channel---------------"
   ]
  },
  {
   "cell_type": "code",
   "execution_count": 88,
   "metadata": {},
   "outputs": [],
   "source": [
    "def __get_fs_value(idx, channel):\n",
    "  string_ = direc[idx]\n",
    "  data = np.load(string_)\n",
    "  data_val = list(data.values())[0]\n",
    "  fs = data_val[channel,:1,:1,]\n",
    "  return fs"
   ]
  },
  {
   "cell_type": "code",
   "execution_count": 89,
   "metadata": {},
   "outputs": [],
   "source": [
    "def __get_channel(idx, channel):\n",
    "  string_=direc[idx]\n",
    "  data = np.load(string_)\n",
    "  data_val = list(data.values())[0]\n",
    "  val = data_val[channel,:128,:128,]\n",
    "  return val"
   ]
  },
  {
   "cell_type": "code",
   "execution_count": 63,
   "metadata": {},
   "outputs": [],
   "source": [
    "#--------------------FREESTREAM X & Y 0'S-------------------"
   ]
  },
  {
   "cell_type": "code",
   "execution_count": 64,
   "metadata": {},
   "outputs": [],
   "source": [
    "fsy_dis = []\n",
    "fsx_dis = []\n",
    "u_inf_dis = []\n",
    "for idx in range(0, len(direc)): \n",
    "    fsx_result = __get_fs_value(idx,0)[0][0]\n",
    "    fsy_result = __get_fs_value(idx,1)[0][0]\n",
    "    fsy_dis.append(fsy_result)\n",
    "    fsx_dis.append(fsx_result)\n",
    "    u_inf = math.sqrt((fsx_result**2)+(fsy_result**2))\n",
    "    u_inf_dis.append(u_inf)"
   ]
  },
  {
   "cell_type": "code",
   "execution_count": 16,
   "metadata": {},
   "outputs": [
    {
     "name": "stdout",
     "output_type": "stream",
     "text": [
      "0 in FreeStream y check: False\n",
      "0 in FreeStream x check: False\n"
     ]
    }
   ],
   "source": [
    "#German data\n",
    "print('0 in FreeStream y check: {}'.format(0.in fsy_dis))\n",
    "print('0 in FreeStream x check: {}'.format(0.in fsx_dis))\n"
   ]
  },
  {
   "cell_type": "code",
   "execution_count": 37,
   "metadata": {},
   "outputs": [
    {
     "name": "stdout",
     "output_type": "stream",
     "text": [
      "0 in FreeStream y check: True\n",
      "0 in FreeStream x check: True\n"
     ]
    }
   ],
   "source": [
    "#our data\n",
    "print('0 in FreeStream y check: {}'.format(0.in fsy_dis))\n",
    "print('0 in FreeStream x check: {}'.format(0.in fsx_dis))"
   ]
  },
  {
   "cell_type": "code",
   "execution_count": 316,
   "metadata": {},
   "outputs": [],
   "source": [
    "#-------------------------NORM PRESSURE--------------------"
   ]
  },
  {
   "cell_type": "code",
   "execution_count": 91,
   "metadata": {},
   "outputs": [],
   "source": [
    "max_list_of_target_p_0 = []\n",
    "mean_list_of_target_p_0 = []\n",
    "\n",
    "\n",
    "for idx in range(0, len(direc)):\n",
    "  #choose rho  \n",
    "  rho = 1\n",
    "  \n",
    "    \n",
    "  fsx_result = __get_fs_value(idx,0)[0][0]\n",
    "  fsy_result = __get_fs_value(idx,1)[0][0]\n",
    "  u_inf = math.sqrt((fsx_result**2)+(fsy_result**2))\n",
    "  \n",
    "    \n",
    "    \n",
    "  target_p_0 = __get_channel(idx, channel=3)  \n",
    "  target_p_0_result = np.concatenate( target_p_0, axis=0 )\n",
    "\n",
    "  mask = __get_channel(idx, channel=2)\n",
    "  mask_2 = np.concatenate( mask, axis=0 )\n",
    "\n",
    "  \n",
    "  target_p_0_result_norm1 = target_p_0_result - np.mean(target_p_0_result) \n",
    "  target_p_0_result_norm2 = target_p_0_result_norm1 - (target_p_0_result_norm1*(mask_2)) #pressure*mask\n",
    "  target_p_0_result_norm3 = target_p_0_result_norm2 / (rho*(u_inf**2))\n",
    "  target_pressure = np.max(abs(target_p_0_result_norm3)).tolist()\n",
    "  max_list_of_target_p_0.append(target_pressure)\n",
    "\n",
    "  mean_target_pressure = np.mean(abs(target_p_0_result_norm3)).tolist()\n",
    "  mean_list_of_target_p_0.append(mean_target_pressure)"
   ]
  },
  {
   "cell_type": "code",
   "execution_count": 92,
   "metadata": {},
   "outputs": [],
   "source": [
    "final_norm_list_of_p = []\n",
    "mean_final_norm_p = []\n",
    "\n",
    "for p in max_list_of_target_p_0:\n",
    "  final_norm_list_of_p.append(p/(np.max(max_list_of_target_p_0)))\n",
    "\n",
    "for p in mean_list_of_target_p_0:\n",
    "  mean_final_norm_p.append(p/(np.max(mean_list_of_target_p_0)))"
   ]
  },
  {
   "cell_type": "code",
   "execution_count": 93,
   "metadata": {},
   "outputs": [],
   "source": [
    "#------------------------NORM V_X--------------------------------------"
   ]
  },
  {
   "cell_type": "code",
   "execution_count": 94,
   "metadata": {},
   "outputs": [],
   "source": [
    "max_list_of_target_v_x_4 = []\n",
    "mean_list_of_target_v_x_4 = []\n",
    "\n",
    "\n",
    "for idx in range(0, len(direc)):\n",
    "  \n",
    "  \n",
    "  fsx_result = __get_fs_value(idx,0)[0][0]\n",
    "  fsy_result = __get_fs_value(idx,1)[0][0]\n",
    "\n",
    "  u_inf = math.sqrt((fsx_result**2)+(fsy_result**2))\n",
    "    \n",
    " \n",
    "\n",
    "\n",
    "  target_v_x = __get_channel(idx, channel=4)\n",
    "  target_v_x_4_result = np.concatenate( target_v_x, axis=0 )\n",
    "\n",
    "  \n",
    "  target_v_x_4_result_norm = np.max(abs(target_v_x_4_result)) / u_inf\n",
    "  target_vel_x = target_v_x_4_result_norm.tolist()\n",
    "  max_list_of_target_v_x_4.append(target_vel_x) \n",
    "\n",
    "  mean_target_v_x_4_result = np.mean(abs(target_v_x_4_result))\n",
    "  mean_target_v_x_4_result_norm = mean_target_v_x_4_result / u_inf\n",
    "  mean_target_vel_x = mean_target_v_x_4_result_norm.tolist()\n",
    "  mean_list_of_target_v_x_4.append(mean_target_vel_x) \n",
    "  "
   ]
  },
  {
   "cell_type": "code",
   "execution_count": 95,
   "metadata": {},
   "outputs": [],
   "source": [
    "final_norm_list_of_v_x = []\n",
    "mean_final_norm_list_of_v_x = []\n",
    "\n",
    "for vx in max_list_of_target_v_x_4:\n",
    "  final_norm_list_of_v_x.append(vx/(np.amax(max_list_of_target_v_x_4)))\n",
    "\n",
    "for vx in mean_list_of_target_v_x_4:\n",
    "  mean_final_norm_list_of_v_x.append(vx/(np.amax(mean_list_of_target_v_x_4)))"
   ]
  },
  {
   "cell_type": "code",
   "execution_count": 96,
   "metadata": {},
   "outputs": [],
   "source": [
    "#--------------------------NORM VY------------------------------------"
   ]
  },
  {
   "cell_type": "code",
   "execution_count": 97,
   "metadata": {},
   "outputs": [],
   "source": [
    "max_list_of_target_v_y_5 = []\n",
    "mean_list_of_target_v_y_5 = []\n",
    "\n",
    "for idx in range(0, len(direc)):\n",
    "  \n",
    "  \n",
    "  fsx_result = __get_fs_value(idx,0)[0][0]\n",
    "  fsy_result = __get_fs_value(idx,1)[0][0]\n",
    "  u_inf = math.sqrt((fsx_result**2)+(fsy_result**2))\n",
    "    \n",
    "\n",
    "  target_v_y_5 = __get_channel(idx, channel=5)\n",
    "  target_v_y_5_result = np.concatenate( target_v_y_5, axis=0 )\n",
    "\n",
    "  target_v_y_5_result_norm = np.max(abs(target_v_y_5_result)) / u_inf\n",
    "  target_vel_y = target_v_y_5_result_norm.tolist()\n",
    "  max_list_of_target_v_y_5.append(target_vel_y) \n",
    "\n",
    "  mean_target_v_y_5_result = np.mean(abs(target_v_y_5_result))\n",
    "  mean_target_v_y_5_result_norm = mean_target_v_y_5_result / u_inf\n",
    "  mean_target_vel_y = mean_target_v_y_5_result_norm.tolist()\n",
    "  mean_list_of_target_v_y_5.append(mean_target_vel_y) "
   ]
  },
  {
   "cell_type": "code",
   "execution_count": 98,
   "metadata": {},
   "outputs": [],
   "source": [
    "final_norm_list_of_v_y = []\n",
    "mean_final_norm_list_of_v_y = []\n",
    "\n",
    "\n",
    "for vy in max_list_of_target_v_y_5:\n",
    "  final_norm_list_of_v_y.append(vy/(np.amax(max_list_of_target_v_y_5)))\n",
    "\n",
    "for vy in mean_list_of_target_v_y_5:\n",
    "  mean_final_norm_list_of_v_y.append(vy/(np.amax(mean_list_of_target_v_y_5)))"
   ]
  },
  {
   "cell_type": "code",
   "execution_count": 96,
   "metadata": {},
   "outputs": [],
   "source": [
    "#------------------Plots--------------------------------------------------"
   ]
  },
  {
   "cell_type": "code",
   "execution_count": 100,
   "metadata": {},
   "outputs": [
    {
     "data": {
      "image/png": "[encoded data removed]",
      "text/plain": [
       "<Figure size 432x288 with 2 Axes>"
      ]
     },
     "metadata": {
      "needs_background": "light"
     },
     "output_type": "display_data"
    }
   ],
   "source": [
    "if direc==Paper_files_dir_train:\n",
    "\n",
    " plt.subplot(1,2,1)\n",
    " plt.xlabel(\"Normalised Max Values \")\n",
    " plt.title(\"Maximum Value Distribution Paper Data: No Ca\")\n",
    " plt.hist(final_norm_list_of_p, label= \"Pressure\", alpha=0.7, color=\"darkblue\")\n",
    " plt.hist(final_norm_list_of_v_x, label = \"Velocity x\", alpha= 0.5, color=\"red\")\n",
    " plt.hist(final_norm_list_of_v_y, label= \"Velocity y\", alpha=0.3, color=\"orange\")\n",
    " plt.legend()\n",
    " plt.tight_layout()\n",
    "\n",
    " plt.subplot(1,2,2)\n",
    " plt.xlabel(\"Normalised Mean Values \")\n",
    " plt.title(\"Mean Value Distribution Paper Data\")\n",
    " plt.hist(mean_final_norm_p, label= \"Pressure\", alpha=0.7, color=\"darkblue\")\n",
    " plt.hist(mean_final_norm_list_of_v_x, label = \"Velocity x\", alpha= 0.5, color=\"red\")\n",
    " plt.hist(mean_final_norm_list_of_v_y, label= \"Velocity y\", alpha=0.3, color=\"orange\")\n",
    " plt.legend()\n",
    " plt.tight_layout()\n",
    "\n",
    " plt.subplots_adjust(right=1.5, wspace=0.5)\n",
    " if save=='on':\n",
    "     plt.savefig(r\"C:\\Users\\bira1\\OneDrive\\Uni MSc\\Individual Project\\Data\\Data for analysis\\PaperDataAnalysis.png\", dpi=300, bbox_inches='tight')\n",
    " plt.show()"
   ]
  },
  {
   "cell_type": "code",
   "execution_count": null,
   "metadata": {},
   "outputs": [],
   "source": [
    "#---Batch1 IS OUR DATA-----"
   ]
  },
  {
   "cell_type": "code",
   "execution_count": 84,
   "metadata": {},
   "outputs": [
    {
     "data": {
      "image/png": "[encoded data removed]",
      "text/plain": [
       "<Figure size 432x288 with 2 Axes>"
      ]
     },
     "metadata": {
      "needs_background": "light"
     },
     "output_type": "display_data"
    }
   ],
   "source": [
    "if direc==Batch1_files_dir_train:\n",
    "\n",
    " plt.subplot(1,2,1)\n",
    " plt.xlabel(\"Normalised Max Values \")\n",
    " plt.title(\"Maximum Value Distribution Batch1 Data: Ca<1\")\n",
    " plt.hist(final_norm_list_of_p, label= \"Pressure\", alpha=0.7, color=\"darkblue\")\n",
    " plt.hist(final_norm_list_of_v_x, label = \"Velocity x\", alpha= 0.5, color=\"red\")\n",
    " plt.hist(final_norm_list_of_v_y, label= \"Velocity y\", alpha=0.3, color=\"orange\")\n",
    " plt.legend()\n",
    " plt.tight_layout()\n",
    "\n",
    " plt.subplot(1,2,2)\n",
    " plt.xlabel(\"Normalised Mean Values \")\n",
    " plt.title(\"Mean Value Distribution Batch1 Data\")\n",
    " plt.hist(mean_final_norm_p, label= \"Pressure\", alpha=0.7, color=\"darkblue\")\n",
    " plt.hist(mean_final_norm_list_of_v_x, label = \"Velocity x\", alpha= 0.5, color=\"red\")\n",
    " plt.hist(mean_final_norm_list_of_v_y, label= \"Velocity y\", alpha=0.3, color=\"orange\")\n",
    " plt.legend()\n",
    " plt.tight_layout()\n",
    "\n",
    " plt.subplots_adjust(right=1.5, wspace=0.5)\n",
    " if save=='on':\n",
    "     plt.savefig(r\"C:\\Users\\bira1\\OneDrive\\Uni MSc\\Individual Project\\Data\\Data for analysis\\Batch1DataAnalysis.png\", dpi=300, bbox_inches='tight')\n",
    " plt.show()"
   ]
  },
  {
   "cell_type": "code",
   "execution_count": null,
   "metadata": {},
   "outputs": [],
   "source": [
    "#-------Outlier Analysis-----------------------------------------------------------------"
   ]
  },
  {
   "cell_type": "code",
   "execution_count": 85,
   "metadata": {},
   "outputs": [
    {
     "data": {
      "image/png": "[encoded data removed]",
      "text/plain": [
       "<Figure size 432x288 with 1 Axes>"
      ]
     },
     "metadata": {
      "needs_background": "light"
     },
     "output_type": "display_data"
    }
   ],
   "source": [
    "y1 = final_norm_list_of_p\n",
    "y2 = final_norm_list_of_v_x\n",
    "y3 = final_norm_list_of_v_y\n",
    "\n",
    "p1 = plt.boxplot([y1,y2,y3],positions=[1,2,3])\n",
    "\n",
    "plt.ylabel('Normalised Max Output')\n",
    "plt.xticks([1, 2, 3], ['Max Pressure', 'Max Vel_X', 'Max Vel_y'])\n",
    "plt.title('Outlier Analysis our data')\n",
    "plt.show()"
   ]
  },
  {
   "cell_type": "code",
   "execution_count": 101,
   "metadata": {},
   "outputs": [
    {
     "data": {
      "image/png": "[encoded data removed]",
      "text/plain": [
       "<Figure size 432x288 with 1 Axes>"
      ]
     },
     "metadata": {
      "needs_background": "light"
     },
     "output_type": "display_data"
    }
   ],
   "source": [
    "y1 = final_norm_list_of_p\n",
    "y2 = final_norm_list_of_v_x\n",
    "y3 = final_norm_list_of_v_y\n",
    "\n",
    "p1 = plt.boxplot([y1,y2,y3],positions=[1,2,3])\n",
    "\n",
    "plt.ylabel('Normalised Max Output')\n",
    "plt.xlabel('Freestream X Velocity')\n",
    "plt.xticks([1, 2, 3], ['Max Pressure', 'Max Vel_X', 'Max Vel_y'])\n",
    "plt.title('Outlier Analysis German data')\n",
    "plt.show()"
   ]
  },
  {
   "cell_type": "code",
   "execution_count": null,
   "metadata": {},
   "outputs": [],
   "source": [
    "#--------------Identifying the outlier files--------------------------------------------------"
   ]
  },
  {
   "cell_type": "code",
   "execution_count": null,
   "metadata": {},
   "outputs": [],
   "source": [
    "listOL= np.array(final_norm_list_of_p)\n",
    "index_of_OL = np.where(np.logical_and(listOL>= 0.1, listOL<= 1.0))\n",
    "List12 = index_of_OL[0]"
   ]
  },
  {
   "cell_type": "code",
   "execution_count": null,
   "metadata": {},
   "outputs": [],
   "source": [
    "files_names_of_OL = []\n",
    "for x in List12:\n",
    "  string = direc[x]\n",
    "  files_names_of_OL.append(string)\n",
    "\n",
    "list_of_outlier_files = [s.replace(\"C:\\\\Users\\\\bira1\\\\OneDrive\\\\Uni MSc\\\\Individual Project\\\\Data\\\\Data for analysis\\\\Batch_1_train_hydro_2021\\\\\", \"\") for s in files_names_of_OL]\n",
    "outlier_files = [s.replace(\".npz\", \"\") for s in list_of_outlier_files]"
   ]
  },
  {
   "cell_type": "code",
   "execution_count": null,
   "metadata": {},
   "outputs": [],
   "source": [
    "OL_U_x = []\n",
    "OL_U_y = []\n",
    "OL_alpha = []\n",
    "OL_cavit = []\n",
    "for x in outlier_files:\n",
    "    split_name = x.split('_')\n",
    "    OL_U_x.append(int(split_name[1])/100)\n",
    "    OL_U_y.append(int(split_name[2])/100)\n",
    "    OL_cavit.append(int(split_name[4])/100)\n",
    "    OL_alpha.append(int(split_name[5])/10)"
   ]
  },
  {
   "cell_type": "code",
   "execution_count": null,
   "metadata": {},
   "outputs": [],
   "source": [
    "Outlier_P = []\n",
    "for x in final_norm_list_of_p:\n",
    "    if x>=0.1 and x<=1.0:\n",
    "        Outlier_P.append(x)"
   ]
  },
  {
   "cell_type": "code",
   "execution_count": null,
   "metadata": {},
   "outputs": [],
   "source": [
    "plt.subplot(1,2,1)\n",
    "plt.hist(OL_alpha)\n",
    "plt.title('Outliers: Angle_of_attack')\n",
    "plt.xlabel(\"AoA\")\n",
    "plt.tight_layout()\n",
    "\n",
    "plt.subplot(1,2,2)\n",
    "plt.hist(OL_cavit)\n",
    "plt.xlabel(\"Cavit Number\")\n",
    "plt.title('Outliers: Cavitation Number')\n",
    "plt.tight_layout()\n",
    "\n",
    "\n",
    "plt.suptitle(\"Outliers\", x=1.5, fontsize='xx-large')\n",
    "plt.subplots_adjust(top=0.8, right=3.0, wspace=0.5)\n",
    "plt.show()"
   ]
  },
  {
   "cell_type": "code",
   "execution_count": null,
   "metadata": {},
   "outputs": [],
   "source": [
    "color= np.array(Outlier_P)\n",
    "plt.scatter(x= OL_alpha,y=OL_cavit, c=color)\n",
    "plt.colorbar(label=\"Pressure Values\")\n",
    "\n",
    "plt.title('Outliers')\n",
    "plt.xlabel(\"AoA\")\n",
    "plt.ylabel(\"Cavitnumber\")\n",
    "\n",
    "plt.savefig(r\"C:\\Users\\bira1\\OneDrive\\Uni MSc\\Individual Project\\Data\\Data for analysis\\OutlierAnalysis.png\", dpi=300, bbox_inches='tight')\n",
    "plt.show()"
   ]
  }
 ],
 "metadata": {
  "kernelspec": {
   "display_name": "Python 3",
   "language": "python",
   "name": "python3"
  },
  "language_info": {
   "codemirror_mode": {
    "name": "ipython",
    "version": 3
   },
   "file_extension": ".py",
   "mimetype": "text/x-python",
   "name": "python",
   "nbconvert_exporter": "python",
   "pygments_lexer": "ipython3",
   "version": "3.8.5"
  }
 },
 "nbformat": 4,
 "nbformat_minor": 4
}
