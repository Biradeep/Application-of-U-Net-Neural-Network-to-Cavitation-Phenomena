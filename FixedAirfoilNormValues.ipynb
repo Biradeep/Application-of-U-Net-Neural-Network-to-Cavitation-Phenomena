{
  "nbformat": 4,
  "nbformat_minor": 0,
  "metadata": {
    "colab": {
      "name": "FixedAirfoilNormValues.ipynb",
      "provenance": [],
      "authorship_tag": "ABX9TyNkLO9S5VGUf4VwCETdy4Y2",
      "include_colab_link": true
    },
    "kernelspec": {
      "name": "python3",
      "display_name": "Python 3"
    },
    "language_info": {
      "name": "python"
    }
  },
  "cells": [
    {
      "cell_type": "markdown",
      "metadata": {
        "id": "view-in-github",
        "colab_type": "text"
      },
      "source": [
        "<a href=\"https://colab.research.google.com/github/Biradeep/Application-of-U-Net-Neural-Network-to-Cavitation-Phenomena/blob/master/FixedAirfoilNormValues.ipynb\" target=\"_parent\"><img src=\"https://colab.research.google.com/assets/colab-badge.svg\" alt=\"Open In Colab\"/></a>"
      ]
    },
    {
      "cell_type": "code",
      "metadata": {
        "id": "DyE2dbAlUXbT"
      },
      "source": [
        "import glob\n",
        "paper_files_dir_train = glob.glob(r\"/content/gdrive/MyDrive/data/train/*.npz\")\n",
        "paper_files_dir_test = glob.glob(r\"/content/gdrive/MyDrive/data/test/*.npz\")\n",
        "new_files_dir_train = glob.glob(r\"/content/gdrive/MyDrive/train_hydro_2021/*.npz\")"
      ],
      "execution_count": null,
      "outputs": []
    },
    {
      "cell_type": "code",
      "metadata": {
        "id": "dVfoV9nFUldv"
      },
      "source": [
        "#----------------normalised pressure---------------------------------"
      ],
      "execution_count": null,
      "outputs": []
    },
    {
      "cell_type": "code",
      "metadata": {
        "id": "IDGKqx1rVC9n"
      },
      "source": [
        "import numpy as np"
      ],
      "execution_count": null,
      "outputs": []
    },
    {
      "cell_type": "code",
      "metadata": {
        "id": "8cHduAwdUuml"
      },
      "source": [
        "def __get_target_p_0(idx):\n",
        "  string_=new_files_dir_train[idx]\n",
        "  data = np.load(string_)\n",
        "  data_val = list(data.values())[0]\n",
        "  p_0 = data_val[3,:128,:128,]\n",
        "  return p_0"
      ],
      "execution_count": null,
      "outputs": []
    },
    {
      "cell_type": "code",
      "metadata": {
        "id": "_oW74ykZUwPW"
      },
      "source": [
        "norm_list_of_target_p_0 = []\n",
        "for idx in range(0, 1402):\n",
        "  rho = 1\n",
        "  u_inf = 2\n",
        "  # p/(rho*u_inf**2)\n",
        "  target_p_0_result = __get_target_p_0(idx)[0] \n",
        "  target_p_0_result_norm1 = target_p_0_result - np.mean(target_p_0_result) \n",
        "  target_p_0_result_norm2 = target_p_0_result_norm1 - (target_p_0_result_norm1*(__get_mask_2(idx)[0])) #pressure*mask\n",
        "  target_p_0_result_norm3 = target_p_0_result_norm2 / (rho*(u_inf**2))\n",
        "  target_pressure = target_p_0_result_norm3.tolist()\n",
        "  norm_list_of_target_p_0.append(target_pressure)"
      ],
      "execution_count": null,
      "outputs": []
    },
    {
      "cell_type": "code",
      "metadata": {
        "id": "RcF3-tVdU2W_"
      },
      "source": [
        "norm_target_p_0_distrib = np.array(norm_list_of_target_p_0)"
      ],
      "execution_count": null,
      "outputs": []
    },
    {
      "cell_type": "code",
      "metadata": {
        "id": "Hy2WNj4-U4Rm"
      },
      "source": [
        "print(\"Min normalised presssure = \", np.amin(norm_target_p_0_distrib))\n",
        "print(\"Max normalised pressure = \", np.amax(norm_target_p_0_distrib))\n",
        "print(\"Mean normalised pressure = \", np.mean(norm_target_p_0_distrib))"
      ],
      "execution_count": null,
      "outputs": []
    },
    {
      "cell_type": "code",
      "metadata": {
        "id": "42bTq4rZVNxA"
      },
      "source": [
        "#------------normalised v_x--------------------------------------------------------"
      ],
      "execution_count": null,
      "outputs": []
    },
    {
      "cell_type": "code",
      "metadata": {
        "id": "ZEvszFISVQQd"
      },
      "source": [
        "def __get_target_v_x(idx):\n",
        "  string_=new_files_dir_train[idx]\n",
        "  data = np.load(string_)\n",
        "  data_val = list(data.values())[0]\n",
        "  out_v_x_4 = data_val[4,:128,:128,]\n",
        "  return out_v_x_4"
      ],
      "execution_count": null,
      "outputs": []
    },
    {
      "cell_type": "code",
      "metadata": {
        "id": "_M_55LIDVj1e"
      },
      "source": [
        "norm_list_of_target_v_x_4 = []\n",
        "for idx in range(0, len(new_files_dir_train)):\n",
        " \n",
        "  u_inf = 2\n",
        "  \n",
        "  target_v_x_4_result = __get_target_v_x(idx)[0] \n",
        "  target_v_x_4_result_norm = target_v_x_4_result / u_inf\n",
        "  target_vel_x = target_v_x_4_result_norm.tolist()\n",
        "  norm_list_of_target_v_x_4.append(target_vel_x)"
      ],
      "execution_count": null,
      "outputs": []
    },
    {
      "cell_type": "code",
      "metadata": {
        "id": "oFz1iy3KVzTv"
      },
      "source": [
        "norm_target_v_x_4_distrib = np.array(norm_list_of_target_v_x_4)"
      ],
      "execution_count": null,
      "outputs": []
    },
    {
      "cell_type": "code",
      "metadata": {
        "id": "RUFFVa67V2GN"
      },
      "source": [
        "print(\"Min normalised v_x = \", np.amin(norm_target_v_x_4_distrib))\n",
        "print(\"Max normalised v_x = \", np.amax(norm_target_v_x_4_distrib))\n",
        "print(\"Mean normalised v_x = \", np.mean(norm_target_v_x_4_distrib))"
      ],
      "execution_count": null,
      "outputs": []
    },
    {
      "cell_type": "code",
      "metadata": {
        "id": "Wk5tjT-2V-Po"
      },
      "source": [
        "#------------normalised v_x--------------------------------------------------------"
      ],
      "execution_count": null,
      "outputs": []
    },
    {
      "cell_type": "code",
      "metadata": {
        "id": "WDeyX4qcWDhO"
      },
      "source": [
        "def __get_target_v_y(idx):\n",
        "  string_=new_files_dir_train[idx]\n",
        "  data = np.load(string_)\n",
        "  data_val = list(data.values())[0]\n",
        "  out_v_y_5 = data_val[5,:128,:128,]\n",
        "  return out_v_y_5"
      ],
      "execution_count": null,
      "outputs": []
    },
    {
      "cell_type": "code",
      "metadata": {
        "id": "miSvAJqTWJZ6"
      },
      "source": [
        "norm_list_of_target_v_y_5 = []\n",
        "for idx in range(0, len(new_files_dir_train)):\n",
        " \n",
        "  u_inf = 2\n",
        "  \n",
        "  target_v_y_5_result = __get_target_v_y(idx)[0] \n",
        "  target_v_y_5_result_norm = target_v_y_5_result / u_inf\n",
        "  target_vel_y = target_v_y_5_result_norm.tolist()\n",
        "  norm_list_of_target_v_y_5.append(target_vel_y)"
      ],
      "execution_count": null,
      "outputs": []
    },
    {
      "cell_type": "code",
      "metadata": {
        "id": "pboAb9LuWaHQ"
      },
      "source": [
        "norm_target_v_y_5_distrib = np.array(norm_list_of_target_v_y_5)"
      ],
      "execution_count": null,
      "outputs": []
    },
    {
      "cell_type": "code",
      "metadata": {
        "id": "YBjsX0WsWkZS"
      },
      "source": [
        "print(\"Min normalised v_y = \", np.amin(norm_target_v_y_5_distrib))\n",
        "print(\"Max normalised v_y = \", np.amax(norm_target_v_y_5_distrib))\n",
        "print(\"Mean normalised v_y = \", np.mean(norm_target_v_y_5_distrib))"
      ],
      "execution_count": null,
      "outputs": []
    }
  ]
}