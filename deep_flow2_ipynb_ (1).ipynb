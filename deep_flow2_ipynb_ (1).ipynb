{
  "nbformat": 4,
  "nbformat_minor": 0,
  "metadata": {
    "colab": {
      "name": "deep_flow2_ipynb_.ipynb",
      "provenance": [],
      "collapsed_sections": []
    },
    "kernelspec": {
      "display_name": "Python 3",
      "name": "python3"
    },
    "language_info": {
      "name": "python"
    },
    "accelerator": "GPU"
  },
  "cells": [
    {
      "cell_type": "code",
      "metadata": {
        "id": "jIrrZ2_Xkojv",
        "colab": {
          "base_uri": "https://localhost:8080/"
        },
        "outputId": "f366fe99-0e20-4d1b-8d36-1158abb0a2f4"
      },
      "source": [
        "from google.colab import drive\n",
        "drive.mount('/content/gdrive')"
      ],
      "execution_count": 1,
      "outputs": [
        {
          "output_type": "stream",
          "name": "stdout",
          "text": [
            "Mounted at /content/gdrive\n"
          ]
        }
      ]
    },
    {
      "cell_type": "code",
      "metadata": {
        "id": "ATMpYTIplqUa"
      },
      "source": [
        "import sys\n",
        "sys.path.append('/usr/local/lib/python3.7/site-packages/')\n",
        "sys.path.insert(0,'/content/gdrive/MyDrive/Deep-Flow-Prediction/train')"
      ],
      "execution_count": 2,
      "outputs": []
    },
    {
      "cell_type": "code",
      "metadata": {
        "id": "2Hap4ApOEMt2"
      },
      "source": [
        "!pip install wandb -qqq\n",
        "import wandb\n",
        "wandb.login()"
      ],
      "execution_count": null,
      "outputs": []
    },
    {
      "cell_type": "code",
      "metadata": {
        "id": "I0BAUbXqEXUU"
      },
      "source": [
        "import os, sys, random\n",
        "import numpy as np\n",
        "import torch\n",
        "import torch.nn as nn\n",
        "from torch.autograd import Variable\n",
        "from torch.utils.data import DataLoader\n",
        "import torch.optim as optim\n",
        "\n",
        "from DfpNet import TurbNetG, weights_init\n",
        "import dataset\n",
        "import utils"
      ],
      "execution_count": 4,
      "outputs": []
    },
    {
      "cell_type": "code",
      "metadata": {
        "colab": {
          "base_uri": "https://localhost:8080/",
          "height": 139
        },
        "id": "Wi4fEW9qIJly",
        "outputId": "48b61ac0-6d84-4b65-fe14-d4633ed99870"
      },
      "source": [
        "wandb.init(project=\"unet-training\")\n",
        "cfg = wandb.config\n",
        "cfg.update({\"cavit_number\" : 'False','expo':5})"
      ],
      "execution_count": 5,
      "outputs": [
        {
          "output_type": "stream",
          "name": "stderr",
          "text": [
            "\u001b[34m\u001b[1mwandb\u001b[0m: Currently logged in as: \u001b[33mbiradeep\u001b[0m (use `wandb login --relogin` to force relogin)\n"
          ]
        },
        {
          "output_type": "display_data",
          "data": {
            "text/html": [
              "\n",
              "                Tracking run with wandb version 0.12.1<br/>\n",
              "                Syncing run <strong style=\"color:#cdcd00\">lilac-deluge-41</strong> to <a href=\"https://wandb.ai\" target=\"_blank\">Weights & Biases</a> <a href=\"https://docs.wandb.com/integrations/jupyter.html\" target=\"_blank\">(Documentation)</a>.<br/>\n",
              "                Project page: <a href=\"https://wandb.ai/biradeep/unet-training\" target=\"_blank\">https://wandb.ai/biradeep/unet-training</a><br/>\n",
              "                Run page: <a href=\"https://wandb.ai/biradeep/unet-training/runs/gdfl42bw\" target=\"_blank\">https://wandb.ai/biradeep/unet-training/runs/gdfl42bw</a><br/>\n",
              "                Run data is saved locally in <code>/content/wandb/run-20210903_100847-gdfl42bw</code><br/><br/>\n",
              "            "
            ],
            "text/plain": [
              "<IPython.core.display.HTML object>"
            ]
          },
          "metadata": {}
        }
      ]
    },
    {
      "cell_type": "code",
      "metadata": {
        "id": "mh0MTWQqLq5J"
      },
      "source": [
        "#dir_train       = r'/content/gdrive/MyDrive/train_hydro_paper/train/' \n",
        "#dir_test        = r'/content/gdrive/MyDrive/train_hydro_paper/test/' "
      ],
      "execution_count": null,
      "outputs": []
    },
    {
      "cell_type": "code",
      "metadata": {
        "id": "DoAsdm2rIXEq"
      },
      "source": [
        "device          = torch.device('cuda' if torch.cuda.is_available() else 'cpu')"
      ],
      "execution_count": 6,
      "outputs": []
    },
    {
      "cell_type": "code",
      "metadata": {
        "id": "V53T2s6XGNhE"
      },
      "source": [
        "######## Settings ########\n",
        "\n",
        "# number of training iterations\n",
        "iterations = 10000\n",
        "# batch size\n",
        "batch_size = 10\n",
        "# learning rate, generator\n",
        "lrG = 0.0006\n",
        "# decay learning rate?\n",
        "decayLr = True\n",
        "# channel exponent to control network size\n",
        "expo = 5\n",
        "# data set config\n",
        "prop=None # by default, use all from \"../data/train\"\n",
        "#prop=[1000,0.75,0,0.25] # mix data from multiple directories\n",
        "# save txt files with per epoch loss?\n",
        "saveL1 = False\n",
        "\n",
        "##########################"
      ],
      "execution_count": 7,
      "outputs": []
    },
    {
      "cell_type": "code",
      "metadata": {
        "colab": {
          "base_uri": "https://localhost:8080/"
        },
        "id": "d0NNn0bPGTZS",
        "outputId": "d80233f6-dc9f-4d7d-a202-2b3025d9ba08"
      },
      "source": [
        "prefix = \"\"\n",
        "if len(sys.argv)>1:\n",
        "    prefix = sys.argv[1]\n",
        "    print(\"Output prefix: {}\".format(prefix))\n",
        "\n",
        "dropout    = 0.      # note, the original runs from https://arxiv.org/abs/1810.08217 used slight dropout, but the effect is minimal; conv layers \"shouldn't need\" dropout, hence set to 0 here.\n",
        "doLoad     = \"\"      # optional, path to pre-trained model\n",
        "\n",
        "print(\"LR: {}\".format(lrG))\n",
        "print(\"LR decay: {}\".format(decayLr))\n",
        "print(\"Iterations: {}\".format(iterations))\n",
        "print(\"Dropout: {}\".format(dropout))\n"
      ],
      "execution_count": 8,
      "outputs": [
        {
          "output_type": "stream",
          "name": "stdout",
          "text": [
            "Output prefix: -f\n",
            "LR: 0.0006\n",
            "LR decay: True\n",
            "Iterations: 10000\n",
            "Dropout: 0.0\n"
          ]
        }
      ]
    },
    {
      "cell_type": "code",
      "metadata": {
        "colab": {
          "base_uri": "https://localhost:8080/"
        },
        "id": "zlFX6NUpGtIl",
        "outputId": "088febf3-1732-4c82-e6d8-21fc4a29576c"
      },
      "source": [
        "seed = random.randint(0, 2**32 - 1)\n",
        "print(\"Random seed: {}\".format(seed))\n",
        "random.seed(seed)\n",
        "np.random.seed(seed)\n",
        "torch.manual_seed(seed)\n",
        "torch.cuda.manual_seed_all(seed)\n",
        "#torch.backends.cudnn.deterministic=True # warning, slower"
      ],
      "execution_count": 9,
      "outputs": [
        {
          "output_type": "stream",
          "name": "stdout",
          "text": [
            "Random seed: 2417497033\n"
          ]
        }
      ]
    },
    {
      "cell_type": "code",
      "metadata": {
        "id": "Ncjq7Z9ocX2d"
      },
      "source": [
        "sys.path.insert(0,'/content/gdrive/MyDrive/segment_fluids')"
      ],
      "execution_count": 10,
      "outputs": []
    },
    {
      "cell_type": "code",
      "metadata": {
        "id": "O1QycEd7cZhg",
        "colab": {
          "base_uri": "https://localhost:8080/"
        },
        "outputId": "74a9e6e7-c385-4c3a-dbad-e3c1f46b9107"
      },
      "source": [
        "from data_ import Dataset_\n",
        "\n",
        "dir_train = r'/content/gdrive/MyDrive/Removed_train_hydro_2/*npz'\n",
        "\n",
        "data_train        = Dataset_(dir_=dir_train,device=device,ro=1000.)\n",
        "data_train.files_ = data_train.files_[:1078]\n",
        "\n",
        "data_test         = Dataset_(dir_=dir_train,device=device,ro=1000.)\n",
        "data_test.files_  = data_test.files_[1078:]\n",
        "\n",
        "trainLoader = DataLoader(data_train,batch_size=10,drop_last=True)\n",
        "valiLoader  = DataLoader(data_test,batch_size=1)\n",
        "\n",
        "print(\"Training batches: {}\".format(len(trainLoader)))\n",
        "print(\"Validation batches: {}\".format(len(valiLoader)))"
      ],
      "execution_count": 11,
      "outputs": [
        {
          "output_type": "stream",
          "name": "stdout",
          "text": [
            "Training batches: 107\n",
            "Validation batches: 270\n"
          ]
        }
      ]
    },
    {
      "cell_type": "code",
      "metadata": {
        "colab": {
          "base_uri": "https://localhost:8080/"
        },
        "id": "ak9xdc77IqN3",
        "outputId": "fbd6511f-3860-47b6-d944-bfe818bb6284"
      },
      "source": [
        "len(data_test)"
      ],
      "execution_count": 13,
      "outputs": [
        {
          "output_type": "execute_result",
          "data": {
            "text/plain": [
              "270"
            ]
          },
          "metadata": {},
          "execution_count": 13
        }
      ]
    },
    {
      "cell_type": "code",
      "metadata": {
        "id": "2gqC3VywOsz_"
      },
      "source": [
        "for a,b in trainLoader:\n",
        "  break"
      ],
      "execution_count": null,
      "outputs": []
    },
    {
      "cell_type": "code",
      "metadata": {
        "id": "Fmew-uZxGdd5"
      },
      "source": [
        "# create pytorch data object with dfp dataset\n",
        "data = dataset.TurbDataset(prop, shuffle=1,dataDir=dir_train,dataDirTest=dir_test)\n",
        "trainLoader = DataLoader(data, batch_size=batch_size, shuffle=True, drop_last=True)\n",
        "print(\"Training batches: {}\".format(len(trainLoader)))\n",
        "dataValidation = dataset.ValiDataset(data)\n",
        "valiLoader = DataLoader(dataValidation, batch_size=1, shuffle=False, drop_last=True) \n",
        "print(\"Validation batches: {}\".format(len(valiLoader)))"
      ],
      "execution_count": null,
      "outputs": []
    },
    {
      "cell_type": "code",
      "metadata": {
        "id": "MdMV64uoVL9o",
        "colab": {
          "base_uri": "https://localhost:8080/"
        },
        "outputId": "92399c91-66e8-4f97-f6c2-0b0836582926"
      },
      "source": [
        "# setup training\n",
        "epochs = int(iterations/len(trainLoader) + 0.5)\n",
        "netG = TurbNetG(channelExponent=expo, dropout=dropout)\n",
        "print(netG) # print full net\n",
        "model_parameters = filter(lambda p: p.requires_grad, netG.parameters())\n",
        "params = sum([np.prod(p.size()) for p in model_parameters])\n",
        "print(\"Initialized TurbNet with {} trainable params \".format(params))\n",
        "\n",
        "netG.apply(weights_init)\n",
        "if len(doLoad)>0:\n",
        "    netG.load_state_dict(torch.load(doLoad))\n",
        "    print(\"Loaded model \"+doLoad)\n",
        "netG.cuda()\n",
        "\n",
        "criterionL1 = nn.L1Loss()\n",
        "criterionL1.cuda()\n",
        "\n",
        "optimizerG = optim.Adam(netG.parameters(), lr=lrG, betas=(0.5, 0.999), weight_decay=0.0)\n",
        "\n",
        "targets = Variable(torch.FloatTensor(batch_size, 3, 128, 128))\n",
        "inputs  = Variable(torch.FloatTensor(batch_size, 3, 128, 128))\n",
        "targets = targets.cuda()\n",
        "inputs  = inputs.cuda()\n",
        "\n",
        "##########################"
      ],
      "execution_count": 15,
      "outputs": [
        {
          "output_type": "stream",
          "name": "stdout",
          "text": [
            "TurbNetG(\n",
            "  (layer1): Sequential(\n",
            "    (layer1_conv): Conv2d(3, 32, kernel_size=(4, 4), stride=(2, 2), padding=(1, 1))\n",
            "  )\n",
            "  (layer2): Sequential(\n",
            "    (layer2_leakyrelu): LeakyReLU(negative_slope=0.2, inplace=True)\n",
            "    (layer2_conv): Conv2d(32, 64, kernel_size=(4, 4), stride=(2, 2), padding=(1, 1))\n",
            "    (layer2_bn): BatchNorm2d(64, eps=1e-05, momentum=0.1, affine=True, track_running_stats=True)\n",
            "  )\n",
            "  (layer2b): Sequential(\n",
            "    (layer2b_leakyrelu): LeakyReLU(negative_slope=0.2, inplace=True)\n",
            "    (layer2b_conv): Conv2d(64, 64, kernel_size=(4, 4), stride=(2, 2), padding=(1, 1))\n",
            "    (layer2b_bn): BatchNorm2d(64, eps=1e-05, momentum=0.1, affine=True, track_running_stats=True)\n",
            "  )\n",
            "  (layer3): Sequential(\n",
            "    (layer3_leakyrelu): LeakyReLU(negative_slope=0.2, inplace=True)\n",
            "    (layer3_conv): Conv2d(64, 128, kernel_size=(4, 4), stride=(2, 2), padding=(1, 1))\n",
            "    (layer3_bn): BatchNorm2d(128, eps=1e-05, momentum=0.1, affine=True, track_running_stats=True)\n",
            "  )\n",
            "  (layer4): Sequential(\n",
            "    (layer4_leakyrelu): LeakyReLU(negative_slope=0.2, inplace=True)\n",
            "    (layer4_conv): Conv2d(128, 256, kernel_size=(4, 4), stride=(2, 2), padding=(1, 1))\n",
            "    (layer4_bn): BatchNorm2d(256, eps=1e-05, momentum=0.1, affine=True, track_running_stats=True)\n",
            "  )\n",
            "  (layer5): Sequential(\n",
            "    (layer5_leakyrelu): LeakyReLU(negative_slope=0.2, inplace=True)\n",
            "    (layer5_conv): Conv2d(256, 256, kernel_size=(2, 2), stride=(2, 2))\n",
            "    (layer5_bn): BatchNorm2d(256, eps=1e-05, momentum=0.1, affine=True, track_running_stats=True)\n",
            "  )\n",
            "  (layer6): Sequential(\n",
            "    (layer6_leakyrelu): LeakyReLU(negative_slope=0.2, inplace=True)\n",
            "    (layer6_conv): Conv2d(256, 256, kernel_size=(2, 2), stride=(2, 2))\n",
            "  )\n",
            "  (dlayer6): Sequential(\n",
            "    (dlayer6_relu): ReLU(inplace=True)\n",
            "    (dlayer6_upsam): Upsample(scale_factor=2.0, mode=bilinear)\n",
            "    (dlayer6_tconv): Conv2d(256, 256, kernel_size=(1, 1), stride=(1, 1))\n",
            "    (dlayer6_bn): BatchNorm2d(256, eps=1e-05, momentum=0.1, affine=True, track_running_stats=True)\n",
            "  )\n",
            "  (dlayer5): Sequential(\n",
            "    (dlayer5_relu): ReLU(inplace=True)\n",
            "    (dlayer5_upsam): Upsample(scale_factor=2.0, mode=bilinear)\n",
            "    (dlayer5_tconv): Conv2d(512, 256, kernel_size=(1, 1), stride=(1, 1))\n",
            "    (dlayer5_bn): BatchNorm2d(256, eps=1e-05, momentum=0.1, affine=True, track_running_stats=True)\n",
            "  )\n",
            "  (dlayer4): Sequential(\n",
            "    (dlayer4_relu): ReLU(inplace=True)\n",
            "    (dlayer4_upsam): Upsample(scale_factor=2.0, mode=bilinear)\n",
            "    (dlayer4_tconv): Conv2d(512, 128, kernel_size=(3, 3), stride=(1, 1), padding=(1, 1))\n",
            "    (dlayer4_bn): BatchNorm2d(128, eps=1e-05, momentum=0.1, affine=True, track_running_stats=True)\n",
            "  )\n",
            "  (dlayer3): Sequential(\n",
            "    (dlayer3_relu): ReLU(inplace=True)\n",
            "    (dlayer3_upsam): Upsample(scale_factor=2.0, mode=bilinear)\n",
            "    (dlayer3_tconv): Conv2d(256, 64, kernel_size=(3, 3), stride=(1, 1), padding=(1, 1))\n",
            "    (dlayer3_bn): BatchNorm2d(64, eps=1e-05, momentum=0.1, affine=True, track_running_stats=True)\n",
            "  )\n",
            "  (dlayer2b): Sequential(\n",
            "    (dlayer2b_relu): ReLU(inplace=True)\n",
            "    (dlayer2b_upsam): Upsample(scale_factor=2.0, mode=bilinear)\n",
            "    (dlayer2b_tconv): Conv2d(128, 64, kernel_size=(3, 3), stride=(1, 1), padding=(1, 1))\n",
            "    (dlayer2b_bn): BatchNorm2d(64, eps=1e-05, momentum=0.1, affine=True, track_running_stats=True)\n",
            "  )\n",
            "  (dlayer2): Sequential(\n",
            "    (dlayer2_relu): ReLU(inplace=True)\n",
            "    (dlayer2_upsam): Upsample(scale_factor=2.0, mode=bilinear)\n",
            "    (dlayer2_tconv): Conv2d(128, 32, kernel_size=(3, 3), stride=(1, 1), padding=(1, 1))\n",
            "    (dlayer2_bn): BatchNorm2d(32, eps=1e-05, momentum=0.1, affine=True, track_running_stats=True)\n",
            "  )\n",
            "  (dlayer1): Sequential(\n",
            "    (dlayer1_relu): ReLU(inplace=True)\n",
            "    (dlayer1_tconv): ConvTranspose2d(64, 3, kernel_size=(4, 4), stride=(2, 2), padding=(1, 1))\n",
            "  )\n",
            ")\n",
            "Initialized TurbNet with 2332035 trainable params \n"
          ]
        }
      ]
    },
    {
      "cell_type": "code",
      "metadata": {
        "colab": {
          "base_uri": "https://localhost:8080/"
        },
        "id": "2QANuGx6DbtE",
        "outputId": "33a4fc7d-d38a-4a5a-8d41-bddd168bb577"
      },
      "source": [
        "print(epochs)"
      ],
      "execution_count": 16,
      "outputs": [
        {
          "output_type": "stream",
          "name": "stdout",
          "text": [
            "93\n"
          ]
        }
      ]
    },
    {
      "cell_type": "code",
      "metadata": {
        "id": "Y0-SBMIvSCnt"
      },
      "source": [
        "import math"
      ],
      "execution_count": 17,
      "outputs": []
    },
    {
      "cell_type": "code",
      "metadata": {
        "id": "d9DzNcyqmLq8"
      },
      "source": [
        "# compute learning rate with decay in second half\n",
        "def computeLR(i,epochs, minLR, maxLR):\n",
        "    if i < epochs*0.5:\n",
        "        return maxLR\n",
        "    e = (i/float(epochs)-0.5)*2.\n",
        "    # rescale second half to min/max range\n",
        "    fmin = 0.\n",
        "    fmax = 6.\n",
        "    e = fmin + e*(fmax-fmin)\n",
        "    f = math.pow(0.5, e)\n",
        "    return minLR + (maxLR-minLR)*f"
      ],
      "execution_count": 18,
      "outputs": []
    },
    {
      "cell_type": "code",
      "metadata": {
        "id": "1FoJT5itG3rd"
      },
      "source": [
        "def relative_error(output_, target_, mask_, alpha=0.1, eps=1e-6):\n",
        "    '''Input:  output_, target_ with shape [1 * C * HIGHT * WIDTH] and mask [1 * HIGHT *WIDTH]\n",
        "       Output: relative error with shape 1 * C '''\n",
        "\n",
        "    '''Number of channels vary depending on if void fraction is calculated or not'''\n",
        "    n_channels = target_.shape[1]\n",
        "    diff_ = abs(target_ - output_)\n",
        "\n",
        "    mask_ = torch.cat([mask_.unsqueeze(1)] * n_channels, dim=1)\n",
        "    '''mask pixels inside the airfoil'''\n",
        "    masked_diff_ = torch.masked_select(diff_, ~(mask_.bool()))\n",
        "    masked_target = torch.masked_select(abs(target_), ~(mask_.bool())) + eps\n",
        "\n",
        "    error = masked_diff_ / masked_target\n",
        "    l = len(error)\n",
        "    error = error.view(n_channels, int(l / n_channels))\n",
        "    error_indic_ = error > alpha\n",
        "\n",
        "    return error_indic_.sum(dim=1) / (l / n_channels)\n"
      ],
      "execution_count": 19,
      "outputs": []
    },
    {
      "cell_type": "code",
      "metadata": {
        "colab": {
          "base_uri": "https://localhost:8080/"
        },
        "id": "wdPJYqSWVWCi",
        "outputId": "73486985-eeb9-49c1-acff-3c9349e96e7f"
      },
      "source": [
        "for epoch in range(epochs):\n",
        "    print(\"Starting epoch {} / {}\".format((epoch+1),epochs))\n",
        "\n",
        "    netG.train()\n",
        "    L1_accum = 0.0\n",
        "    for i, traindata in enumerate(trainLoader, 0):\n",
        "        inputs_cpu, targets_cpu  = traindata\n",
        "        #targets_cpu, inputs_cpu = targets_cpu.float().cuda(), inputs_cpu.float().cuda()\n",
        "        #inputs.data.resize_as_(inputs_cpu).copy_(inputs_cpu)\n",
        "        #targets.data.resize_as_(targets_cpu).copy_(targets_cpu)\n",
        "\n",
        "        # compute LR decay\n",
        "        if decayLr:\n",
        "            currLr = computeLR(epoch, epochs, lrG*0.1, lrG)\n",
        "            if currLr < lrG:\n",
        "                for g in optimizerG.param_groups:\n",
        "                    g['lr'] = currLr\n",
        "\n",
        "        netG.zero_grad()\n",
        "        #gen_out = netG(inputs)\n",
        "        gen_out = netG(inputs_cpu[:,1:,:,:])\n",
        "        #lossL1 = criterionL1(gen_out, targets)\n",
        "        lossL1 = criterionL1(gen_out, targets_cpu[:,:3,:,:])\n",
        "        lossL1.backward()\n",
        "\n",
        "        optimizerG.step()\n",
        "\n",
        "        lossL1viz = lossL1.item()\n",
        "        L1_accum += lossL1viz\n",
        "\n",
        "        if i==len(trainLoader)-1:\n",
        "            logline = \"Epoch: {}, batch-idx: {}, L1: {}\\n\".format(epoch, i, lossL1viz)\n",
        "            print(logline)\n",
        "\n",
        "    wandb.log({'Train_loss':L1_accum/len(trainLoader),'Epoch':epoch})\n",
        "\n",
        "\n",
        "    # validation\n",
        "    netG.eval()\n",
        "    R_Error     = torch.zeros(size=(1,3),device=device)\n",
        "    L1val_accum = 0.0\n",
        "    for i, validata in enumerate(valiLoader, 0):\n",
        "        inputs_cpu, targets_cpu  = validata\n",
        "        #targets_cpu, inputs_cpu = targets_cpu.float().cuda(), inputs_cpu.float().cuda()\n",
        "        #inputs.data.resize_as_(inputs_cpu).copy_(inputs_cpu)\n",
        "        #targets.data.resize_as_(targets_cpu).copy_(targets_cpu)\n",
        "\n",
        "        outputs = netG(inputs_cpu[:,1:,:,:])\n",
        "        outputs_cpu = outputs.data.cpu().numpy()\n",
        "\n",
        "        lossL1 = criterionL1(outputs, targets_cpu[:,:3,:,:])\n",
        "        L1val_accum += lossL1.item()\n",
        "        R_Error         += relative_error(outputs,targets_cpu[:,:3,:,:],inputs_cpu[:,3,:,:])\n",
        "        '''\n",
        "        if i==0:\n",
        "            input_ndarray = inputs_cpu[:,1:,:,:].cpu().numpy()[0]\n",
        "            v_norm = ( np.max(np.abs(input_ndarray[0,:,:]))**2 + np.max(np.abs(input_ndarray[1,:,:]))**2 )**0.5\n",
        "\n",
        "            outputs_denormalized = data.denormalize(outputs_cpu[0], v_norm)\n",
        "            targets_denormalized = data.denormalize(targets_cpu.cpu().numpy()[0], v_norm)\n",
        "            utils.makeDirs([\"results_train\"])\n",
        "            utils.imageOut(\"results_train/epoch{}_{}\".format(epoch, i), outputs_denormalized, targets_denormalized, saveTargets=True)\n",
        "        '''\n",
        "    # data for graph plotting\n",
        "    L1_accum    /= len(trainLoader)\n",
        "    L1val_accum /= len(valiLoader)\n",
        "    '''\n",
        "    if saveL1:\n",
        "        if epoch==0: \n",
        "            utils.resetLog(prefix + \"L1.txt\"   )\n",
        "            utils.resetLog(prefix + \"L1val.txt\")\n",
        "        utils.log(prefix + \"L1.txt\"   , \"{} \".format(L1_accum), False)\n",
        "        utils.log(prefix + \"L1val.txt\", \"{} \".format(L1val_accum), False)\n",
        "    '''\n",
        "    E_P, E_V_x, E_V_y  = R_Error[0]/len(valiLoader)\n",
        "\n",
        "    wandb.log({'Test_loss':L1val_accum,'Epoch':epoch,\\\n",
        "               'E_P':E_P,'E_V_x':E_V_x,'E_V_y':E_V_y})\n",
        "\n",
        "torch.save(netG.state_dict(), prefix + \"modelG\" )"
      ],
      "execution_count": 20,
      "outputs": [
        {
          "output_type": "stream",
          "name": "stdout",
          "text": [
            "Starting epoch 1 / 93\n"
          ]
        },
        {
          "output_type": "stream",
          "name": "stderr",
          "text": [
            "/usr/local/lib/python3.7/dist-packages/torch/nn/functional.py:3613: UserWarning: Default upsampling behavior when mode=bilinear is changed to align_corners=False since 0.4.0. Please specify align_corners=True if the old behavior is desired. See the documentation of nn.Upsample for details.\n",
            "  \"See the documentation of nn.Upsample for details.\".format(mode)\n"
          ]
        },
        {
          "output_type": "stream",
          "name": "stdout",
          "text": [
            "Epoch: 0, batch-idx: 106, L1: 0.019169732928276062\n",
            "\n",
            "Starting epoch 2 / 93\n",
            "Epoch: 1, batch-idx: 106, L1: 0.016897523775696754\n",
            "\n",
            "Starting epoch 3 / 93\n",
            "Epoch: 2, batch-idx: 106, L1: 0.016624972224235535\n",
            "\n",
            "Starting epoch 4 / 93\n",
            "Epoch: 3, batch-idx: 106, L1: 0.015829242765903473\n",
            "\n",
            "Starting epoch 5 / 93\n",
            "Epoch: 4, batch-idx: 106, L1: 0.016039855778217316\n",
            "\n",
            "Starting epoch 6 / 93\n",
            "Epoch: 5, batch-idx: 106, L1: 0.016022589057683945\n",
            "\n",
            "Starting epoch 7 / 93\n",
            "Epoch: 6, batch-idx: 106, L1: 0.01564578153192997\n",
            "\n",
            "Starting epoch 8 / 93\n",
            "Epoch: 7, batch-idx: 106, L1: 0.015229485929012299\n",
            "\n",
            "Starting epoch 9 / 93\n",
            "Epoch: 8, batch-idx: 106, L1: 0.014892308041453362\n",
            "\n",
            "Starting epoch 10 / 93\n",
            "Epoch: 9, batch-idx: 106, L1: 0.014936871826648712\n",
            "\n",
            "Starting epoch 11 / 93\n",
            "Epoch: 10, batch-idx: 106, L1: 0.01548110879957676\n",
            "\n",
            "Starting epoch 12 / 93\n",
            "Epoch: 11, batch-idx: 106, L1: 0.01494989637285471\n",
            "\n",
            "Starting epoch 13 / 93\n",
            "Epoch: 12, batch-idx: 106, L1: 0.014795714989304543\n",
            "\n",
            "Starting epoch 14 / 93\n",
            "Epoch: 13, batch-idx: 106, L1: 0.014636912383139133\n",
            "\n",
            "Starting epoch 15 / 93\n",
            "Epoch: 14, batch-idx: 106, L1: 0.01481547113507986\n",
            "\n",
            "Starting epoch 16 / 93\n",
            "Epoch: 15, batch-idx: 106, L1: 0.014697043225169182\n",
            "\n",
            "Starting epoch 17 / 93\n",
            "Epoch: 16, batch-idx: 106, L1: 0.01454122457653284\n",
            "\n",
            "Starting epoch 18 / 93\n",
            "Epoch: 17, batch-idx: 106, L1: 0.014951933175325394\n",
            "\n",
            "Starting epoch 19 / 93\n",
            "Epoch: 18, batch-idx: 106, L1: 0.014302842319011688\n",
            "\n",
            "Starting epoch 20 / 93\n",
            "Epoch: 19, batch-idx: 106, L1: 0.014220255427062511\n",
            "\n",
            "Starting epoch 21 / 93\n",
            "Epoch: 20, batch-idx: 106, L1: 0.014454091899096966\n",
            "\n",
            "Starting epoch 22 / 93\n",
            "Epoch: 21, batch-idx: 106, L1: 0.014236632734537125\n",
            "\n",
            "Starting epoch 23 / 93\n",
            "Epoch: 22, batch-idx: 106, L1: 0.014141073450446129\n",
            "\n",
            "Starting epoch 24 / 93\n",
            "Epoch: 23, batch-idx: 106, L1: 0.013850798830389977\n",
            "\n",
            "Starting epoch 25 / 93\n",
            "Epoch: 24, batch-idx: 106, L1: 0.014289617538452148\n",
            "\n",
            "Starting epoch 26 / 93\n",
            "Epoch: 25, batch-idx: 106, L1: 0.014142228290438652\n",
            "\n",
            "Starting epoch 27 / 93\n",
            "Epoch: 26, batch-idx: 106, L1: 0.014739430509507656\n",
            "\n",
            "Starting epoch 28 / 93\n",
            "Epoch: 27, batch-idx: 106, L1: 0.01494619157165289\n",
            "\n",
            "Starting epoch 29 / 93\n",
            "Epoch: 28, batch-idx: 106, L1: 0.01533790398389101\n",
            "\n",
            "Starting epoch 30 / 93\n",
            "Epoch: 29, batch-idx: 106, L1: 0.015231242403388023\n",
            "\n",
            "Starting epoch 31 / 93\n",
            "Epoch: 30, batch-idx: 106, L1: 0.014922218397259712\n",
            "\n",
            "Starting epoch 32 / 93\n",
            "Epoch: 31, batch-idx: 106, L1: 0.01396311167627573\n",
            "\n",
            "Starting epoch 33 / 93\n",
            "Epoch: 32, batch-idx: 106, L1: 0.014640227891504765\n",
            "\n",
            "Starting epoch 34 / 93\n",
            "Epoch: 33, batch-idx: 106, L1: 0.013828838244080544\n",
            "\n",
            "Starting epoch 35 / 93\n",
            "Epoch: 34, batch-idx: 106, L1: 0.01409255899488926\n",
            "\n",
            "Starting epoch 36 / 93\n",
            "Epoch: 35, batch-idx: 106, L1: 0.013498492538928986\n",
            "\n",
            "Starting epoch 37 / 93\n",
            "Epoch: 36, batch-idx: 106, L1: 0.014438324607908726\n",
            "\n",
            "Starting epoch 38 / 93\n",
            "Epoch: 37, batch-idx: 106, L1: 0.012262669391930103\n",
            "\n",
            "Starting epoch 39 / 93\n",
            "Epoch: 38, batch-idx: 106, L1: 0.01289630401879549\n",
            "\n",
            "Starting epoch 40 / 93\n",
            "Epoch: 39, batch-idx: 106, L1: 0.012969695031642914\n",
            "\n",
            "Starting epoch 41 / 93\n",
            "Epoch: 40, batch-idx: 106, L1: 0.012852327898144722\n",
            "\n",
            "Starting epoch 42 / 93\n",
            "Epoch: 41, batch-idx: 106, L1: 0.01233797799795866\n",
            "\n",
            "Starting epoch 43 / 93\n",
            "Epoch: 42, batch-idx: 106, L1: 0.012459583580493927\n",
            "\n",
            "Starting epoch 44 / 93\n",
            "Epoch: 43, batch-idx: 106, L1: 0.01234500389546156\n",
            "\n",
            "Starting epoch 45 / 93\n",
            "Epoch: 44, batch-idx: 106, L1: 0.012892517261207104\n",
            "\n",
            "Starting epoch 46 / 93\n",
            "Epoch: 45, batch-idx: 106, L1: 0.010816218331456184\n",
            "\n",
            "Starting epoch 47 / 93\n",
            "Epoch: 46, batch-idx: 106, L1: 0.012317419983446598\n",
            "\n",
            "Starting epoch 48 / 93\n",
            "Epoch: 47, batch-idx: 106, L1: 0.010414762422442436\n",
            "\n",
            "Starting epoch 49 / 93\n",
            "Epoch: 48, batch-idx: 106, L1: 0.010652894154191017\n",
            "\n",
            "Starting epoch 50 / 93\n",
            "Epoch: 49, batch-idx: 106, L1: 0.01120654959231615\n",
            "\n",
            "Starting epoch 51 / 93\n",
            "Epoch: 50, batch-idx: 106, L1: 0.010340884327888489\n",
            "\n",
            "Starting epoch 52 / 93\n",
            "Epoch: 51, batch-idx: 106, L1: 0.010942451655864716\n",
            "\n",
            "Starting epoch 53 / 93\n",
            "Epoch: 52, batch-idx: 106, L1: 0.009783717803657055\n",
            "\n",
            "Starting epoch 54 / 93\n",
            "Epoch: 53, batch-idx: 106, L1: 0.009216918610036373\n",
            "\n",
            "Starting epoch 55 / 93\n",
            "Epoch: 54, batch-idx: 106, L1: 0.00993725098669529\n",
            "\n",
            "Starting epoch 56 / 93\n",
            "Epoch: 55, batch-idx: 106, L1: 0.009296831674873829\n",
            "\n",
            "Starting epoch 57 / 93\n",
            "Epoch: 56, batch-idx: 106, L1: 0.009499861858785152\n",
            "\n",
            "Starting epoch 58 / 93\n",
            "Epoch: 57, batch-idx: 106, L1: 0.00875904317945242\n",
            "\n",
            "Starting epoch 59 / 93\n",
            "Epoch: 58, batch-idx: 106, L1: 0.008561576716601849\n",
            "\n",
            "Starting epoch 60 / 93\n",
            "Epoch: 59, batch-idx: 106, L1: 0.007953223772346973\n",
            "\n",
            "Starting epoch 61 / 93\n",
            "Epoch: 60, batch-idx: 106, L1: 0.007843884639441967\n",
            "\n",
            "Starting epoch 62 / 93\n",
            "Epoch: 61, batch-idx: 106, L1: 0.007386016193777323\n",
            "\n",
            "Starting epoch 63 / 93\n",
            "Epoch: 62, batch-idx: 106, L1: 0.007138191722333431\n",
            "\n",
            "Starting epoch 64 / 93\n",
            "Epoch: 63, batch-idx: 106, L1: 0.0077662686817348\n",
            "\n",
            "Starting epoch 65 / 93\n",
            "Epoch: 64, batch-idx: 106, L1: 0.007223727647215128\n",
            "\n",
            "Starting epoch 66 / 93\n",
            "Epoch: 65, batch-idx: 106, L1: 0.007069648243486881\n",
            "\n",
            "Starting epoch 67 / 93\n",
            "Epoch: 66, batch-idx: 106, L1: 0.007081381045281887\n",
            "\n",
            "Starting epoch 68 / 93\n",
            "Epoch: 67, batch-idx: 106, L1: 0.007018394768238068\n",
            "\n",
            "Starting epoch 69 / 93\n",
            "Epoch: 68, batch-idx: 106, L1: 0.006969657726585865\n",
            "\n",
            "Starting epoch 70 / 93\n",
            "Epoch: 69, batch-idx: 106, L1: 0.007094729226082563\n",
            "\n",
            "Starting epoch 71 / 93\n",
            "Epoch: 70, batch-idx: 106, L1: 0.006805018056184053\n",
            "\n",
            "Starting epoch 72 / 93\n",
            "Epoch: 71, batch-idx: 106, L1: 0.006798724178224802\n",
            "\n",
            "Starting epoch 73 / 93\n",
            "Epoch: 72, batch-idx: 106, L1: 0.006742333527654409\n",
            "\n",
            "Starting epoch 74 / 93\n",
            "Epoch: 73, batch-idx: 106, L1: 0.006680429447442293\n",
            "\n",
            "Starting epoch 75 / 93\n",
            "Epoch: 74, batch-idx: 106, L1: 0.006703166291117668\n",
            "\n",
            "Starting epoch 76 / 93\n",
            "Epoch: 75, batch-idx: 106, L1: 0.006684809923171997\n",
            "\n",
            "Starting epoch 77 / 93\n",
            "Epoch: 76, batch-idx: 106, L1: 0.006734586786478758\n",
            "\n",
            "Starting epoch 78 / 93\n",
            "Epoch: 77, batch-idx: 106, L1: 0.006582480855286121\n",
            "\n",
            "Starting epoch 79 / 93\n",
            "Epoch: 78, batch-idx: 106, L1: 0.006445990409702063\n",
            "\n",
            "Starting epoch 80 / 93\n",
            "Epoch: 79, batch-idx: 106, L1: 0.006629418581724167\n",
            "\n",
            "Starting epoch 81 / 93\n",
            "Epoch: 80, batch-idx: 106, L1: 0.006373115815222263\n",
            "\n",
            "Starting epoch 82 / 93\n",
            "Epoch: 81, batch-idx: 106, L1: 0.006532023195177317\n",
            "\n",
            "Starting epoch 83 / 93\n",
            "Epoch: 82, batch-idx: 106, L1: 0.006467150058597326\n",
            "\n",
            "Starting epoch 84 / 93\n",
            "Epoch: 83, batch-idx: 106, L1: 0.0065199933014810085\n",
            "\n",
            "Starting epoch 85 / 93\n",
            "Epoch: 84, batch-idx: 106, L1: 0.00646859360858798\n",
            "\n",
            "Starting epoch 86 / 93\n",
            "Epoch: 85, batch-idx: 106, L1: 0.006539938971400261\n",
            "\n",
            "Starting epoch 87 / 93\n",
            "Epoch: 86, batch-idx: 106, L1: 0.0063834949396550655\n",
            "\n",
            "Starting epoch 88 / 93\n",
            "Epoch: 87, batch-idx: 106, L1: 0.006372344680130482\n",
            "\n",
            "Starting epoch 89 / 93\n",
            "Epoch: 88, batch-idx: 106, L1: 0.006323861423879862\n",
            "\n",
            "Starting epoch 90 / 93\n",
            "Epoch: 89, batch-idx: 106, L1: 0.0062429350800812244\n",
            "\n",
            "Starting epoch 91 / 93\n",
            "Epoch: 90, batch-idx: 106, L1: 0.006278752814978361\n",
            "\n",
            "Starting epoch 92 / 93\n",
            "Epoch: 91, batch-idx: 106, L1: 0.006297083105891943\n",
            "\n",
            "Starting epoch 93 / 93\n",
            "Epoch: 92, batch-idx: 106, L1: 0.006229077931493521\n",
            "\n"
          ]
        }
      ]
    },
    {
      "cell_type": "code",
      "metadata": {
        "id": "DL_nZqmtt-TP"
      },
      "source": [
        "netG.eval()"
      ],
      "execution_count": null,
      "outputs": []
    },
    {
      "cell_type": "code",
      "metadata": {
        "colab": {
          "base_uri": "https://localhost:8080/"
        },
        "id": "OuSgtsyPtgDR",
        "outputId": "4e130d43-8c0a-4dd8-9af5-1824a536b07c"
      },
      "source": [
        "lossL1_   = []\n",
        "p_error   = []\n",
        "v_x_error = []\n",
        "v_y_error = []\n",
        "angles    = []\n",
        "cav = []\n",
        "for i, validata in enumerate(valiLoader, 0):\n",
        "  inputs_cpu, targets_cpu  = validata\n",
        "  outputs                  = netG(inputs_cpu[:,1:,:,:])\n",
        "  outputs_cpu              = outputs.data.cpu().numpy()\n",
        "\n",
        "  lossL1             = criterionL1(outputs, targets_cpu[:,:3,:,:])\n",
        "  lossL1_.append(lossL1.item())\n",
        "\n",
        "\n",
        "  input_y = inputs_cpu[:,2,0,0]/(1.0/0.517296253922456)\n",
        "  input_y1 = input_y*2\n",
        "\n",
        "  input_x = inputs_cpu[:,1,0,0]/(1.0/1.999999969289829)\n",
        "  input_x1 = input_x*2\n",
        "\n",
        "\n",
        "\n",
        "  R_Error            = relative_error(outputs,targets_cpu[:,:3,:,:],inputs_cpu[:,3,:,:])\n",
        "  E_P, E_V_x, E_V_y  = R_Error\n",
        "  p_error.append(E_P.detach().cpu().numpy())\n",
        "  v_x_error.append(E_V_x.detach().cpu().numpy())\n",
        "  v_y_error.append(E_V_y.detach().cpu().numpy())\n",
        "  angles.append((torch.arctan(input_y1/input_x1)*180/torch.tensor(math.pi)).detach().cpu().numpy())\n",
        "  cav.append(inputs_cpu[:,0,0,0].detach().cpu().numpy())"
      ],
      "execution_count": 21,
      "outputs": [
        {
          "output_type": "stream",
          "name": "stderr",
          "text": [
            "/usr/local/lib/python3.7/dist-packages/torch/nn/functional.py:3613: UserWarning: Default upsampling behavior when mode=bilinear is changed to align_corners=False since 0.4.0. Please specify align_corners=True if the old behavior is desired. See the documentation of nn.Upsample for details.\n",
            "  \"See the documentation of nn.Upsample for details.\".format(mode)\n"
          ]
        }
      ]
    },
    {
      "cell_type": "code",
      "metadata": {
        "colab": {
          "base_uri": "https://localhost:8080/"
        },
        "id": "27WEcwKnyENy",
        "outputId": "ffae2e34-4ffd-46e8-97b6-653d39864cd6"
      },
      "source": [
        "inputs_cpu[:,2,0,0]"
      ],
      "execution_count": null,
      "outputs": [
        {
          "output_type": "execute_result",
          "data": {
            "text/plain": [
              "tensor([0.1830], device='cuda:0')"
            ]
          },
          "metadata": {},
          "execution_count": 51
        }
      ]
    },
    {
      "cell_type": "code",
      "metadata": {
        "colab": {
          "base_uri": "https://localhost:8080/"
        },
        "id": "2VV9_gylyGav",
        "outputId": "8b5de512-a23e-4c1d-b5ca-04ceaa938c01"
      },
      "source": [
        "inputs_cpu[:,1,0,0]"
      ],
      "execution_count": null,
      "outputs": [
        {
          "output_type": "execute_result",
          "data": {
            "text/plain": [
              "tensor([0.2793], device='cuda:0')"
            ]
          },
          "metadata": {},
          "execution_count": 52
        }
      ]
    },
    {
      "cell_type": "code",
      "metadata": {
        "id": "ShE49jzaxXk5"
      },
      "source": [
        "import matplotlib.pyplot as plt"
      ],
      "execution_count": 23,
      "outputs": []
    },
    {
      "cell_type": "code",
      "metadata": {
        "colab": {
          "base_uri": "https://localhost:8080/",
          "height": 299
        },
        "id": "OttsuKI0v9s2",
        "outputId": "c3809e69-61a6-46a8-cf22-83e99b38530b"
      },
      "source": [
        "c = cav\n",
        "plt.scatter(angles,p_error, c=c, cmap='jet', alpha=0.7)\n",
        "plt.xlabel('Angle of Attack' ' ' r'$\\alpha$')\n",
        "plt.ylabel(\"Relative Pressure Error\")\n",
        "cbar = plt.colorbar(shrink=1.0)\n",
        "cbar.ax.set_ylabel('Cavitation Number' ' ' r'$C_a$')\n",
        "cbar.ax.tick_params(labelsize=10)\n",
        "plt.title('Error Analysis: Pressure')\n",
        "plt.savefig('PERRORAoA_perror_Cav', dpi=80)\n",
        "plt.show()"
      ],
      "execution_count": 98,
      "outputs": [
        {
          "output_type": "display_data",
          "data": {
            "image/png": "[encoded data removed]",
            "text/plain": [
              "<Figure size 432x288 with 2 Axes>"
            ]
          },
          "metadata": {
            "needs_background": "light"
          }
        }
      ]
    },
    {
      "cell_type": "code",
      "metadata": {
        "colab": {
          "base_uri": "https://localhost:8080/",
          "height": 299
        },
        "id": "2AQKqgU0cbRg",
        "outputId": "cea1a989-c762-45a4-93e9-6261a7dd1e46"
      },
      "source": [
        "c = cav\n",
        "plt.scatter(angles,v_x_error, c=c, cmap='jet', alpha=1.0)\n",
        "plt.xlabel('Angle of Attack' ' ' r'$\\alpha$')\n",
        "plt.ylabel(\"Relative Velocity X Error\")\n",
        "cbar = plt.colorbar(shrink=1.0)\n",
        "cbar.ax.set_ylabel('Cavitation Number' ' ' r'$C_a$')\n",
        "cbar.ax.tick_params(labelsize=10)\n",
        "plt.title('Error Analysis: Velocity X')\n",
        "plt.savefig('ErrorAoA_Vxerror_Cav', dpi=80)\n",
        "plt.show()"
      ],
      "execution_count": 99,
      "outputs": [
        {
          "output_type": "display_data",
          "data": {
            "image/png": "[encoded data removed]",
            "text/plain": [
              "<Figure size 432x288 with 2 Axes>"
            ]
          },
          "metadata": {
            "needs_background": "light"
          }
        }
      ]
    },
    {
      "cell_type": "code",
      "metadata": {
        "colab": {
          "base_uri": "https://localhost:8080/",
          "height": 299
        },
        "id": "v12S13hncthV",
        "outputId": "dccf366f-f2c9-434a-8d06-47c610be1394"
      },
      "source": [
        "c = cav\n",
        "plt.scatter(angles,v_y_error, c=c, cmap='jet', alpha=1.0)\n",
        "plt.xlabel('Angle of Attack' ' ' r'$\\alpha$')\n",
        "plt.ylabel(\"Relative Velocity Y Error\")\n",
        "cbar = plt.colorbar(shrink=1.0)\n",
        "cbar.ax.set_ylabel('Cavitation Number' ' ' r'$C_a$')\n",
        "cbar.ax.tick_params(labelsize=10)\n",
        "plt.title('Error Analysis: Velocity Y')\n",
        "plt.savefig('AoA_Vyerror_Cav', dpi=80)\n",
        "plt.show()"
      ],
      "execution_count": 103,
      "outputs": [
        {
          "output_type": "display_data",
          "data": {
            "image/png": "[encoded data removed]",
            "text/plain": [
              "<Figure size 432x288 with 2 Axes>"
            ]
          },
          "metadata": {
            "needs_background": "light"
          }
        }
      ]
    },
    {
      "cell_type": "code",
      "metadata": {
        "id": "UNuGdnuiw5uf"
      },
      "source": [
        "c"
      ],
      "execution_count": null,
      "outputs": []
    },
    {
      "cell_type": "code",
      "metadata": {
        "colab": {
          "base_uri": "https://localhost:8080/"
        },
        "id": "gyxUCMGjuVGM",
        "outputId": "d3e9538f-5c86-47bd-f969-5b1ee04d7997"
      },
      "source": [
        "inputs_cpu[:,0,0,0]"
      ],
      "execution_count": null,
      "outputs": [
        {
          "output_type": "execute_result",
          "data": {
            "text/plain": [
              "tensor([77.5300], device='cuda:0')"
            ]
          },
          "metadata": {},
          "execution_count": 24
        }
      ]
    },
    {
      "cell_type": "code",
      "metadata": {
        "colab": {
          "base_uri": "https://localhost:8080/"
        },
        "id": "7pRFWycwubzz",
        "outputId": "a485d73f-222a-4e80-dcde-0c4798b5c27c"
      },
      "source": [
        "inputs_cpu[:,1,0,0]"
      ],
      "execution_count": null,
      "outputs": [
        {
          "output_type": "execute_result",
          "data": {
            "text/plain": [
              "tensor([0.7754], device='cuda:0')"
            ]
          },
          "metadata": {},
          "execution_count": 25
        }
      ]
    },
    {
      "cell_type": "code",
      "metadata": {
        "colab": {
          "base_uri": "https://localhost:8080/"
        },
        "id": "uJkzPWWIues5",
        "outputId": "10865b3c-93e6-4630-97c6-edc3f6f11e65"
      },
      "source": [
        "torch.arctan(inputs_cpu[:,1,0,0]/inputs_cpu[:,0,0,0])*180/torch.tensor(math.pi)"
      ],
      "execution_count": null,
      "outputs": [
        {
          "output_type": "execute_result",
          "data": {
            "text/plain": [
              "tensor([0.5730], device='cuda:0')"
            ]
          },
          "metadata": {},
          "execution_count": 31
        }
      ]
    },
    {
      "cell_type": "code",
      "metadata": {
        "id": "Ir0SAFPDIniH"
      },
      "source": [
        ""
      ],
      "execution_count": null,
      "outputs": []
    }
  ]
}