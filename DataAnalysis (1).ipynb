{
 "cells": [
  {
   "cell_type": "code",
   "execution_count": 681,
   "metadata": {},
   "outputs": [],
   "source": [
    "import glob\n",
    "import numpy as np\n",
    "import math\n",
    "import sys\n",
    "import os\n",
    "import matplotlib.pyplot as plt"
   ]
  },
  {
   "cell_type": "code",
   "execution_count": 682,
   "metadata": {},
   "outputs": [],
   "source": [
    "Paper_files_dir_train = glob.glob(r\"C:\\Users\\bira1\\OneDrive\\Uni MSc\\Individual Project\\Data\\Data for analysis\\GermanData\\PaperData\\paper_train\\*.npz\")\n",
    "Batch1_files_dir_train = glob.glob(r\"C:\\Users\\bira1\\OneDrive\\Uni MSc\\Individual Project\\Data\\Data for analysis\\Batch_1_train_hydro_2021\\*.npz\")\n",
    "Batch2_files_dir_train =glob.glob(r\"C:\\Users\\bira1\\OneDrive\\Uni MSc\\Individual Project\\Data\\Data for analysis\\Batch_2_train_hydro_2021\\*.npz\")\n",
    "High_Ca_files_dir = glob.glob(r\"C:\\Users\\bira1\\OneDrive\\Uni MSc\\Individual Project\\Data\\Data for analysis\\High_Ca_Data\\*.npz\")\n",
    "\n"
   ]
  },
  {
   "cell_type": "code",
   "execution_count": 739,
   "metadata": {},
   "outputs": [],
   "source": [
    "#Choose direc then run script to obtain plot of data distrib\n",
    "\n",
    "direc = Batch2_files_dir_train\n",
    "\n",
    "#set save on or off to store locally\n",
    "save = 'off'"
   ]
  },
  {
   "cell_type": "code",
   "execution_count": 722,
   "metadata": {},
   "outputs": [],
   "source": [
    "#------------------------------------Obtaining target Channel---------------"
   ]
  },
  {
   "cell_type": "code",
   "execution_count": 723,
   "metadata": {},
   "outputs": [],
   "source": [
    "def __get_freestream_x(idx):\n",
    "  string_ = direc[idx]\n",
    "  data = np.load(string_)\n",
    "  data_val = list(data.values())[0]\n",
    "  fsx = data_val[0,:1,:1,]\n",
    "  return fsx"
   ]
  },
  {
   "cell_type": "code",
   "execution_count": 724,
   "metadata": {},
   "outputs": [],
   "source": [
    "def __get_freestream_y(idx):\n",
    "  string_=direc[idx]\n",
    "  data = np.load(string_)\n",
    "  data_val = list(data.values())[0]\n",
    "  fsy = data_val[1,:1,:1,]\n",
    "  return fsy"
   ]
  },
  {
   "cell_type": "code",
   "execution_count": 725,
   "metadata": {},
   "outputs": [],
   "source": [
    "def __get_target_p_0(idx):\n",
    "  string_=direc[idx]\n",
    "  data = np.load(string_)\n",
    "  data_val = list(data.values())[0]\n",
    "  p_0 = data_val[3,:128,:128,]\n",
    "  return p_0"
   ]
  },
  {
   "cell_type": "code",
   "execution_count": 726,
   "metadata": {},
   "outputs": [],
   "source": [
    "def __get_mask_2(idx):\n",
    "  string_=direc[idx]\n",
    "  data = np.load(string_)\n",
    "  data_val = list(data.values())[0]\n",
    "  mask_2 = data_val[2,:128,:128,]\n",
    "  return mask_2"
   ]
  },
  {
   "cell_type": "code",
   "execution_count": 727,
   "metadata": {},
   "outputs": [],
   "source": [
    "def __get_target_v_x(idx):\n",
    "  string_=direc[idx]\n",
    "  data = np.load(string_)\n",
    "  data_val = list(data.values())[0]\n",
    "  out_v_x_4 = data_val[4,:128,:128,]\n",
    "  return out_v_x_4"
   ]
  },
  {
   "cell_type": "code",
   "execution_count": 728,
   "metadata": {},
   "outputs": [],
   "source": [
    "def __get_target_v_y(idx):\n",
    "  string_=direc[idx]\n",
    "  data = np.load(string_)\n",
    "  data_val = list(data.values())[0]\n",
    "  out_v_y_5 = data_val[5,:128,:128,]\n",
    "  return out_v_y_5"
   ]
  },
  {
   "cell_type": "code",
   "execution_count": 729,
   "metadata": {},
   "outputs": [],
   "source": [
    "#-------------------------NORM PRESSURE--------------------"
   ]
  },
  {
   "cell_type": "code",
   "execution_count": 730,
   "metadata": {},
   "outputs": [],
   "source": [
    "max_list_of_target_p_0 = []\n",
    "mean_list_of_target_p_0 = []\n",
    "\n",
    "\n",
    "for idx in range(0, len(direc)):\n",
    "    \n",
    "  if direc==Paper_files_dir_train:\n",
    "      fsx_result = __get_freestream_x(idx)[0][0]\n",
    "\n",
    "      fsy_result = __get_freestream_y(idx)[0][0]\n",
    "\n",
    "      u_inf = math.sqrt((fsx_result**2)+(fsy_result**2))\n",
    "      rho = 1\n",
    "  else: \n",
    "\n",
    "   u_inf = 2 \n",
    "   rho = 1000\n",
    "    \n",
    "    \n",
    "  target_p_0_result = __get_target_p_0(idx)[0]\n",
    "  target_p_0_result_norm1 = target_p_0_result - np.mean(target_p_0_result) \n",
    "  target_p_0_result_norm2 = target_p_0_result_norm1 - (target_p_0_result_norm1*(__get_mask_2(idx)[0])) #pressure*mask\n",
    "  target_p_0_result_norm3 = target_p_0_result_norm2 / (rho*(u_inf**2))\n",
    "  target_pressure = np.max(target_p_0_result_norm3).tolist()\n",
    "  max_list_of_target_p_0.append(target_pressure)\n",
    "\n",
    "  mean_target_pressure = np.mean(target_p_0_result_norm3).tolist()\n",
    "  mean_list_of_target_p_0.append(mean_target_pressure)"
   ]
  },
  {
   "cell_type": "code",
   "execution_count": 731,
   "metadata": {},
   "outputs": [],
   "source": [
    "final_norm_list_of_p = []\n",
    "mean_final_norm_p = []\n",
    "\n",
    "for p in max_list_of_target_p_0:\n",
    "  final_norm_list_of_p.append(abs(p/(np.max(max_list_of_target_p_0))))\n",
    "\n",
    "for p in mean_list_of_target_p_0:\n",
    "  mean_final_norm_p.append(abs(p/(np.max(mean_list_of_target_p_0))))"
   ]
  },
  {
   "cell_type": "code",
   "execution_count": 732,
   "metadata": {},
   "outputs": [],
   "source": [
    "#------------------------NORM V_X--------------------------------------"
   ]
  },
  {
   "cell_type": "code",
   "execution_count": 733,
   "metadata": {},
   "outputs": [],
   "source": [
    "max_list_of_target_v_x_4 = []\n",
    "mean_list_of_target_v_x_4 = []\n",
    "\n",
    "\n",
    "for idx in range(0, len(direc)):\n",
    "  \n",
    "  if direc==Paper_files_dir_train:\n",
    "      fsx_result = __get_freestream_x(idx)[0][0]\n",
    "\n",
    "      fsy_result = __get_freestream_y(idx)[0][0]\n",
    "\n",
    "      u_inf = math.sqrt((fsx_result**2)+(fsy_result**2))\n",
    "    \n",
    "  else: \n",
    "\n",
    "   u_inf = 2\n",
    "\n",
    "\n",
    "  \n",
    "  target_v_x_4_result = np.max(__get_target_v_x(idx)[0])\n",
    "  target_v_x_4_result_norm = target_v_x_4_result / u_inf\n",
    "  target_vel_x = target_v_x_4_result_norm.tolist()\n",
    "  max_list_of_target_v_x_4.append(target_vel_x) \n",
    "\n",
    "  mean_target_v_x_4_result = np.mean(__get_target_v_x(idx)[0])\n",
    "  mean_target_v_x_4_result_norm = mean_target_v_x_4_result / u_inf\n",
    "  mean_target_vel_x = mean_target_v_x_4_result_norm.tolist()\n",
    "  mean_list_of_target_v_x_4.append(mean_target_vel_x) \n",
    "  "
   ]
  },
  {
   "cell_type": "code",
   "execution_count": 734,
   "metadata": {},
   "outputs": [],
   "source": [
    "final_norm_list_of_v_x = []\n",
    "mean_final_norm_list_of_v_x = []\n",
    "\n",
    "for vx in max_list_of_target_v_x_4:\n",
    "  final_norm_list_of_v_x.append(abs(vx/(np.amax(max_list_of_target_v_x_4))))\n",
    "\n",
    "for vx in mean_list_of_target_v_x_4:\n",
    "  mean_final_norm_list_of_v_x.append(abs(vx/(np.amax(mean_list_of_target_v_x_4))))"
   ]
  },
  {
   "cell_type": "code",
   "execution_count": 735,
   "metadata": {},
   "outputs": [],
   "source": [
    "#--------------------------NORM VY------------------------------------"
   ]
  },
  {
   "cell_type": "code",
   "execution_count": 736,
   "metadata": {},
   "outputs": [],
   "source": [
    "max_list_of_target_v_y_5 = []\n",
    "mean_list_of_target_v_y_5 = []\n",
    "\n",
    "for idx in range(0, len(direc)):\n",
    " \n",
    "  \n",
    "  if direc==Paper_files_dir_train:\n",
    "      fsx_result = __get_freestream_x(idx)[0][0]\n",
    "\n",
    "      fsy_result = __get_freestream_y(idx)[0][0]\n",
    "\n",
    "      u_inf = math.sqrt((fsx_result**2)+(fsy_result**2))\n",
    "    \n",
    "  else: \n",
    "\n",
    "   u_inf = 2\n",
    "\n",
    "  target_v_y_5_result = np.max(__get_target_v_y(idx)[0])\n",
    "  target_v_y_5_result_norm = target_v_y_5_result / u_inf\n",
    "  target_vel_y = target_v_y_5_result_norm.tolist()\n",
    "  max_list_of_target_v_y_5.append(target_vel_y) \n",
    "\n",
    "  mean_target_v_y_5_result = np.mean(__get_target_v_y(idx)[0])\n",
    "  mean_target_v_y_5_result_norm = mean_target_v_y_5_result / u_inf\n",
    "  mean_target_vel_y = mean_target_v_y_5_result_norm.tolist()\n",
    "  mean_list_of_target_v_y_5.append(mean_target_vel_y) "
   ]
  },
  {
   "cell_type": "code",
   "execution_count": 737,
   "metadata": {},
   "outputs": [],
   "source": [
    "final_norm_list_of_v_y = []\n",
    "mean_final_norm_list_of_v_y = []\n",
    "\n",
    "\n",
    "for vy in max_list_of_target_v_y_5:\n",
    "  final_norm_list_of_v_y.append(abs(vy/(np.amax(max_list_of_target_v_y_5))))\n",
    "\n",
    "for vy in mean_list_of_target_v_y_5:\n",
    "  mean_final_norm_list_of_v_y.append(abs(vy/(np.amax(mean_list_of_target_v_y_5))))"
   ]
  },
  {
   "cell_type": "code",
   "execution_count": 719,
   "metadata": {},
   "outputs": [],
   "source": [
    "#------------------Plots--------------------------------------------------"
   ]
  },
  {
   "cell_type": "code",
   "execution_count": 701,
   "metadata": {},
   "outputs": [
    {
     "data": {
      "image/png": "[encoded data removed]",
      "text/plain": [
       "<Figure size 432x288 with 2 Axes>"
      ]
     },
     "metadata": {
      "needs_background": "light"
     },
     "output_type": "display_data"
    }
   ],
   "source": [
    "if direc==Paper_files_dir_train:\n",
    "\n",
    " plt.subplot(1,2,1)\n",
    " plt.xlabel(\"Normalised Max Values \")\n",
    " plt.title(\"Maximum Value Distribution Paper Data: No Ca\")\n",
    " plt.hist(final_norm_list_of_p, label= \"Pressure\", alpha=0.7, color=\"darkblue\")\n",
    " plt.hist(final_norm_list_of_v_x, label = \"Velocity x\", alpha= 0.5, color=\"red\")\n",
    " plt.hist(final_norm_list_of_v_y, label= \"Velocity y\", alpha=0.3, color=\"orange\")\n",
    " plt.legend()\n",
    " plt.tight_layout()\n",
    "\n",
    " plt.subplot(1,2,2)\n",
    " plt.xlabel(\"Normalised Mean Values \")\n",
    " plt.title(\"Mean Value Distribution Paper Data\")\n",
    " plt.hist(mean_final_norm_p, label= \"Pressure\", alpha=0.7, color=\"darkblue\")\n",
    " plt.hist(mean_final_norm_list_of_v_x, label = \"Velocity x\", alpha= 0.5, color=\"red\")\n",
    " plt.hist(mean_final_norm_list_of_v_y, label= \"Velocity y\", alpha=0.3, color=\"orange\")\n",
    " plt.legend()\n",
    " plt.tight_layout()\n",
    "\n",
    " plt.subplots_adjust(right=1.5, wspace=0.5)\n",
    " if save=='on':\n",
    "     plt.savefig(r\"C:\\Users\\bira1\\OneDrive\\Uni MSc\\Individual Project\\Data\\Data for analysis\\PaperDataAnalysis.png\", dpi=300, bbox_inches='tight')\n",
    " plt.show()"
   ]
  },
  {
   "cell_type": "code",
   "execution_count": 720,
   "metadata": {},
   "outputs": [
    {
     "data": {
      "image/png": "[encoded data removed]",
      "text/plain": [
       "<Figure size 432x288 with 2 Axes>"
      ]
     },
     "metadata": {
      "needs_background": "light"
     },
     "output_type": "display_data"
    }
   ],
   "source": [
    "if direc==Batch1_files_dir_train:\n",
    "\n",
    " plt.subplot(1,2,1)\n",
    " plt.xlabel(\"Normalised Max Values \")\n",
    " plt.title(\"Maximum Value Distribution Batch1 Data: Ca<1\")\n",
    " plt.hist(final_norm_list_of_p, label= \"Pressure\", alpha=0.7, color=\"darkblue\")\n",
    " plt.hist(final_norm_list_of_v_x, label = \"Velocity x\", alpha= 0.5, color=\"red\")\n",
    " plt.hist(final_norm_list_of_v_y, label= \"Velocity y\", alpha=0.3, color=\"orange\")\n",
    " plt.legend()\n",
    " plt.tight_layout()\n",
    "\n",
    " plt.subplot(1,2,2)\n",
    " plt.xlabel(\"Normalised Mean Values \")\n",
    " plt.title(\"Mean Value Distribution Batch1 Data\")\n",
    " plt.hist(mean_final_norm_p, label= \"Pressure\", alpha=0.7, color=\"darkblue\")\n",
    " plt.hist(mean_final_norm_list_of_v_x, label = \"Velocity x\", alpha= 0.5, color=\"red\")\n",
    " plt.hist(mean_final_norm_list_of_v_y, label= \"Velocity y\", alpha=0.3, color=\"orange\")\n",
    " plt.legend()\n",
    " plt.tight_layout()\n",
    "\n",
    " plt.subplots_adjust(right=1.5, wspace=0.5)\n",
    " if save=='on':\n",
    "     plt.savefig(r\"C:\\Users\\bira1\\OneDrive\\Uni MSc\\Individual Project\\Data\\Data for analysis\\Batch1DataAnalysis.png\", dpi=300, bbox_inches='tight')\n",
    " plt.show()"
   ]
  },
  {
   "cell_type": "code",
   "execution_count": 740,
   "metadata": {},
   "outputs": [
    {
     "data": {
      "image/png": "[encoded data removed]",
      "text/plain": [
       "<Figure size 432x288 with 2 Axes>"
      ]
     },
     "metadata": {
      "needs_background": "light"
     },
     "output_type": "display_data"
    }
   ],
   "source": [
    "if direc==Batch2_files_dir_train:\n",
    "\n",
    " plt.subplot(1,2,1)\n",
    " plt.xlabel(\"Normalised Max Values \")\n",
    " plt.title(\"Maximum Value Distribution Batch2 Data: Ca<1\")\n",
    " plt.hist(final_norm_list_of_p, label= \"Pressure\", alpha=0.7, color=\"darkblue\")\n",
    " plt.hist(final_norm_list_of_v_x, label = \"Velocity x\", alpha= 0.5, color=\"red\")\n",
    " plt.hist(final_norm_list_of_v_y, label= \"Velocity y\", alpha=0.3, color=\"orange\")\n",
    " plt.legend()\n",
    " plt.tight_layout()\n",
    "\n",
    " plt.subplot(1,2,2)\n",
    " plt.xlabel(\"Normalised Mean Values \")\n",
    " plt.title(\"Mean Value Distribution Batch2 Data\")\n",
    " plt.hist(mean_final_norm_p, label= \"Pressure\", alpha=0.7, color=\"darkblue\")\n",
    " plt.hist(mean_final_norm_list_of_v_x, label = \"Velocity x\", alpha= 0.5, color=\"red\")\n",
    " plt.hist(mean_final_norm_list_of_v_y, label= \"Velocity y\", alpha=0.3, color=\"orange\")\n",
    " plt.legend()\n",
    " plt.tight_layout()\n",
    "\n",
    " plt.subplots_adjust(right=1.5, wspace=0.5)\n",
    " if save=='on':\n",
    "     plt.savefig(r\"C:\\Users\\bira1\\OneDrive\\Uni MSc\\Individual Project\\Data\\Data for analysis\\Batch2DataAnalysis.png\", dpi=300, bbox_inches='tight')\n",
    " plt.show()"
   ]
  },
  {
   "cell_type": "code",
   "execution_count": 643,
   "metadata": {},
   "outputs": [
    {
     "data": {
      "image/png": "[encoded data removed]",
      "text/plain": [
       "<Figure size 432x288 with 2 Axes>"
      ]
     },
     "metadata": {
      "needs_background": "light"
     },
     "output_type": "display_data"
    }
   ],
   "source": [
    "if direc==High_Ca_files_dir:\n",
    "\n",
    " plt.subplot(1,2,1)\n",
    " plt.xlabel(\"Normalised Max Values \")\n",
    " plt.title(\"Maximum Value Distribution Data: 4<Ca<8\")\n",
    " plt.hist(final_norm_list_of_p, label= \"Pressure\", alpha=0.7, color=\"darkblue\")\n",
    " plt.hist(final_norm_list_of_v_x, label = \"Velocity x\", alpha= 0.5, color=\"red\")\n",
    " plt.hist(final_norm_list_of_v_y, label= \"Velocity y\", alpha=0.3, color=\"orange\")\n",
    " plt.legend()\n",
    " plt.tight_layout()\n",
    "\n",
    " plt.subplot(1,2,2)\n",
    " plt.xlabel(\"Normalised Mean Values \")\n",
    " plt.title(\"Mean Value Distribution Data: 4<Ca<8\")\n",
    " plt.hist(mean_final_norm_p, label= \"Pressure\", alpha=0.7, color=\"darkblue\")\n",
    " plt.hist(mean_final_norm_list_of_v_x, label = \"Velocity x\", alpha= 0.5, color=\"red\")\n",
    " plt.hist(mean_final_norm_list_of_v_y, label= \"Velocity y\", alpha=0.3, color=\"orange\")\n",
    " plt.legend()\n",
    " plt.tight_layout()\n",
    "\n",
    " plt.subplots_adjust(right=1.5, wspace=0.5)\n",
    " if save=='on':\n",
    "     plt.savefig(r\"C:\\Users\\bira1\\OneDrive\\Uni MSc\\Individual Project\\Data\\Data for analysis\\HighCaDataAnalysis.png\", dpi=300, bbox_inches='tight')\n",
    " plt.show()"
   ]
  },
  {
   "cell_type": "code",
   "execution_count": null,
   "metadata": {},
   "outputs": [],
   "source": []
  }
 ],
 "metadata": {
  "kernelspec": {
   "display_name": "Python 3",
   "language": "python",
   "name": "python3"
  },
  "language_info": {
   "codemirror_mode": {
    "name": "ipython",
    "version": 3
   },
   "file_extension": ".py",
   "mimetype": "text/x-python",
   "name": "python",
   "nbconvert_exporter": "python",
   "pygments_lexer": "ipython3",
   "version": "3.8.5"
  }
 },
 "nbformat": 4,
 "nbformat_minor": 4
}
